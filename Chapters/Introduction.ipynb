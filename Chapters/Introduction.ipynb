{
  "nbformat": 4,
  "nbformat_minor": 0,
  "metadata": {
    "colab": {
      "name": "Untitled30.ipynb",
      "provenance": [],
      "authorship_tag": "ABX9TyOYO4BGoh9XlgHoqcBSgHuf"
    },
    "kernelspec": {
      "name": "python3",
      "display_name": "Python 3"
    },
    "language_info": {
      "name": "python"
    }
  },
  "cells": [
    {
      "cell_type": "markdown",
      "metadata": {
        "id": "i_4QVqdV96a6"
      },
      "source": [
        "# Introduction to Operations Research\n",
        "\n",
        "\n",
        "\n"
      ]
    },
    {
      "cell_type": "markdown",
      "metadata": {
        "id": "woaZjkArTMAh"
      },
      "source": [
        "## Welcome\n",
        "\n",
        "\n",
        "\n",
        "\n",
        "\n"
      ]
    },
    {
      "cell_type": "markdown",
      "metadata": {
        "id": "n0AD_VXnYiKq"
      },
      "source": [
        "This book was starteded in the Fall of 2021 at [East Central University](https://ecok.edu) for a course on Operations Research (CPSMA 3933).  All material here was created by the students and faculty member in hopes to create an OER (**O**pen **E**ducational **R**esource) for use in future classes."
      ]
    },
    {
      "cell_type": "markdown",
      "metadata": {
        "id": "DVKCnmI8UBTG"
      },
      "source": [
        "## Python"
      ]
    },
    {
      "cell_type": "markdown",
      "metadata": {
        "id": "5GgWvxZMYjTU"
      },
      "source": [
        "Python was utilized throughout the text and some familiarity will be nesseccary for the reader to follow.  Many packages were included as the open source community has many pre-built solutions for python.\n",
        "\n",
        "\n",
        "\n"
      ]
    },
    {
      "cell_type": "markdown",
      "source": [
        "## Resources "
      ],
      "metadata": {
        "id": "FRisqbCPC4Kw"
      }
    },
    {
      "cell_type": "markdown",
      "metadata": {
        "id": "gZAnmh5LlmwX"
      },
      "source": [
        "\n",
        "\n",
        "Chapters were created with [Jupyter](https://jupyter.org/) notebooks.  Much of the computing was done on [Google Colab](https://colab.research.google.com/) and many direct links on the notebooks will take you there with the chapters directly.  The book was compiled with [Jupyter Book](https://jupyterbook.org/intro.html).  The source code for the entire project can be found on [GitHub](https://github.com/nurfnick/Operations_Research)."
      ]
    },
    {
      "cell_type": "markdown",
      "metadata": {
        "id": "C8i0wsUKijeP"
      },
      "source": [
        "### Authors"
      ]
    },
    {
      "cell_type": "markdown",
      "metadata": {
        "id": "rajid0PdipzE"
      },
      "source": [
        "Compiler of this book was: [N.C.Jacob](https://github.com/nurfnick)\n",
        "\n",
        "Contributions were made by:"
      ]
    }
  ]
}