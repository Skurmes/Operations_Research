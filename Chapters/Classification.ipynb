{
  "nbformat": 4,
  "nbformat_minor": 0,
  "metadata": {
    "colab": {
      "name": "Operations Research",
      "provenance": [],
      "collapsed_sections": []
    },
    "kernelspec": {
      "display_name": "Python 3",
      "name": "python3"
    },
    "language_info": {
      "name": "python"
    }
  },
  "cells": [
    {
      "cell_type": "markdown",
      "metadata": {
        "id": "ka630LxfZ38t"
      },
      "source": [
        "\n",
        "<center><font size =7>Classification</font size></center>"
      ]
    },
    {
      "cell_type": "markdown",
      "metadata": {
        "id": "Hcc4PvdJQRNL"
      },
      "source": [
        "<h1><center>Introduction</center></h1>\n",
        "\n",
        "\n",
        "Classification has been used throughout all of human history. The food groups are an example of classification. Apples are fruits and cakes are desserts. Classification is used by humans to simplify the information that is needed to be remembered. From the previous example, fruits are generally healthy, whereas desserts are not. Therefore, if an unknown food can be classified into a fruit or dessert, then a person can have a general knowledge of the unknown food. The idea of classification plays an important role in machine learning algorithms.\n",
        "\n",
        "\n",
        "Classification is the systematic arrangement of objects into categories that have similar traits. Classification may be a simple easy to understand term; however, there are a plethora of different ways to go about classifying computationally. In this text, three specific types of computational classification are discussed, K-Nearest Neighbors, Decision Tree, and Logistic Regression. Note that there are several other types that are not mentioned. This types are not mentioned strickly because of the space constraint of this text.\n",
        "\n",
        "\n",
        "\n",
        "\n"
      ]
    },
    {
      "cell_type": "markdown",
      "metadata": {
        "id": "TxRIxTm9yiK7"
      },
      "source": [
        "<h1><center>K-Nearest Neighbors</center></h1>\n",
        "\n",
        "\n",
        "K-Nearest Neighbors (KNN) is one of the simplest and oldest methods of classification. In 1951, Evelyn Fix and J.L. Hodges Jr. wrote the first known technical report of what is now know as KNN. KNN classifies every unlabeled data points by the majority label among its K-Nearest Neighbors. To find the K-Nearest Neighbor, KNN uses the Euclidean distance to determine the closest set of data points to any example with an unknown label. The Euclidean distance is shown below.\n",
        "\n",
        "$$\n",
        "D = \\sqrt{(a_1-a_0)^2+(b_1-b_0)^2+(c_1-c_0)^2+...} \n",
        "$$\n",
        "\n",
        "The user tells KNN the number of data points that is needed to determine the unknown label. Then based on that number of closest data points, the unknown label is predicted to be the majority label."
      ]
    },
    {
      "cell_type": "markdown",
      "metadata": {
        "id": "cPnKOslz5lZU"
      },
      "source": [
        "<h1><center>Examples of K-Nearest Neighbors</center></h1>"
      ]
    },
    {
      "cell_type": "markdown",
      "metadata": {
        "id": "H7_7bdSvrZsr"
      },
      "source": [
        "The following is an example of how KNN works in two dimensions. Given the table and graph below, determine the label of the unknown point $(1.5,3)$ for 1, 3, and 5 nearest neighbors. This problem can be done by using a programming language. However, this problem was design to be done by hand, or using a graphing software."
      ]
    },
    {
      "cell_type": "code",
      "metadata": {
        "colab": {
          "base_uri": "https://localhost:8080/",
          "height": 520
        },
        "id": "Qe9KaMsU6G85",
        "outputId": "0a72337b-68c1-478d-9d46-2d217c21cf2c"
      },
      "source": [
        "#Import Packages\n",
        "from tabulate import tabulate\n",
        "import matplotlib.pyplot as plt\n",
        "from matplotlib.patches import Circle\n",
        "import numpy as np\n",
        "#Unknown Point\n",
        "unknownPoint = [1.5,3]\n",
        "#Create Array\n",
        "array = np.zeros((6,3))\n",
        "array[:,:] = [[0,0,0],[1,2,0],[1,4,0],[3,4,1],[2,3,1],[2.5,2,1]]\n",
        "head = ['X', 'Y','Label']\n",
        "#Display Table\n",
        "print(tabulate(array, headers=head, tablefmt=\"grid\"))\n",
        "#Scatter Plot\n",
        "plt.scatter(array[0:3,0],array[0:3,1],color='red')\n",
        "plt.scatter(array[3:,0],array[3:,1],color='blue')\n",
        "plt.show()"
      ],
      "execution_count": null,
      "outputs": [
        {
          "output_type": "stream",
          "name": "stdout",
          "text": [
            "+-----+-----+---------+\n",
            "|   X |   Y |   Label |\n",
            "+=====+=====+=========+\n",
            "| 0   |   0 |       0 |\n",
            "+-----+-----+---------+\n",
            "| 1   |   2 |       0 |\n",
            "+-----+-----+---------+\n",
            "| 1   |   4 |       0 |\n",
            "+-----+-----+---------+\n",
            "| 3   |   4 |       1 |\n",
            "+-----+-----+---------+\n",
            "| 2   |   3 |       1 |\n",
            "+-----+-----+---------+\n",
            "| 2.5 |   2 |       1 |\n",
            "+-----+-----+---------+\n"
          ]
        },
        {
          "output_type": "display_data",
          "data": {
            "image/png": "[encoded data removed]",
            "text/plain": [
              "<Figure size 432x288 with 1 Axes>"
            ]
          },
          "metadata": {
            "needs_background": "light"
          }
        }
      ]
    },
    {
      "cell_type": "markdown",
      "metadata": {
        "id": "QA9XcPgFycXr"
      },
      "source": [
        "<h2>Answer</h2>"
      ]
    },
    {
      "cell_type": "markdown",
      "metadata": {
        "id": "lh-eimu5u0jT"
      },
      "source": [
        "The first task is to determine the closest point to the unknown point. Using the table find all of the Euclidean distances from each point to the unknown point.\n",
        "\n",
        "For the first point (0,0)\n",
        "$$\n",
        "D = \\sqrt{(1.5-0)^2+(3-0)^2}\n",
        "$$\n",
        "$$\n",
        "D = 3.354 \n",
        "$$\n",
        "The second point (1,2)\n",
        "$$\n",
        "D = \\sqrt{(1.5-1)^2+(3-2)^2}\n",
        "$$\n",
        "$$\n",
        "D = 1.118\n",
        "$$\n",
        "The third point (1,4)\n",
        "$$\n",
        "D = \\sqrt{(1.5-1)^2+(3-4)^2}\n",
        "$$\n",
        "$$\n",
        "D = 1.118\n",
        "$$\n",
        "The fourth point (3,4)\n",
        "$$\n",
        "D = \\sqrt{(1.5-3)^2+(3-4)^2}\n",
        "$$\n",
        "$$\n",
        "D = 1.803\n",
        "$$\n",
        "The fifth point (2,3)\n",
        "$$\n",
        "D = \\sqrt{(1.5-2)^2+(3-3)^2}\n",
        "$$\n",
        "$$\n",
        "D = 0.5\n",
        "$$\n",
        "The sixth point (2.5,2)\n",
        "$$\n",
        "D = \\sqrt{(1.5-2.5)^2+(3-2)^2}\n",
        "$$\n",
        "$$\n",
        "D = 1.414\n",
        "$$"
      ]
    },
    {
      "cell_type": "code",
      "metadata": {
        "colab": {
          "base_uri": "https://localhost:8080/"
        },
        "id": "3jDzb7TVzmjW",
        "outputId": "8468002b-8523-4393-a148-247ec8e1b5f1"
      },
      "source": [
        "distances = np.zeros((6,3))\n",
        "distances[:,:] = [[1,np.sqrt((1.5-0)**2+(3-0)**2),0],[2,np.sqrt((1.5-1)**2+(3-2)**2),0],[3,np.sqrt((1.5-1)**2+(3-4)**2),0],\n",
        "                  [4,np.sqrt((1.5-3)**2+(3-4)**2),1],[5,np.sqrt((1.5-2)**2+(3-3)**2),1],[6,np.sqrt((1.5-2.5)**2+(3-2)**2),1]]\n",
        "head = ['Point', 'Distance','Label']\n",
        "print(tabulate(distances, headers=head, tablefmt=\"grid\"))"
      ],
      "execution_count": null,
      "outputs": [
        {
          "output_type": "stream",
          "name": "stdout",
          "text": [
            "+---------+------------+---------+\n",
            "|   Point |   Distance |   Label |\n",
            "+=========+============+=========+\n",
            "|       1 |    3.3541  |       0 |\n",
            "+---------+------------+---------+\n",
            "|       2 |    1.11803 |       0 |\n",
            "+---------+------------+---------+\n",
            "|       3 |    1.11803 |       0 |\n",
            "+---------+------------+---------+\n",
            "|       4 |    1.80278 |       1 |\n",
            "+---------+------------+---------+\n",
            "|       5 |    0.5     |       1 |\n",
            "+---------+------------+---------+\n",
            "|       6 |    1.41421 |       1 |\n",
            "+---------+------------+---------+\n"
          ]
        }
      ]
    },
    {
      "cell_type": "markdown",
      "metadata": {
        "id": "a-7b0hvluXqD"
      },
      "source": [
        "The table above shows that point 5 is the closest point to the unknown point. Based off only using one nearest neighbor, the label of the unknown point would be 1. However, if the three closest neighbors are used, points 2, 3, and 5, then the label of the unknown point would be 0. This result happens because a majority of the nearest neighbors have a zero label. For the five nearest neighbors, all points except point 1, the label of the unknown point is 1. This is the process that the K-Nearest Neighbors algorithm is designed to do. Below are visual representations of the three different numbers of nearest neighbors."
      ]
    },
    {
      "cell_type": "markdown",
      "metadata": {
        "id": "hmwWTI1J3ZQb"
      },
      "source": [
        "<h2>One Nearest Neighbor</h2>"
      ]
    },
    {
      "cell_type": "code",
      "metadata": {
        "colab": {
          "base_uri": "https://localhost:8080/",
          "height": 483
        },
        "id": "6m-klaA5tsnk",
        "outputId": "8c19f67d-7d49-4539-b71b-e6e82b230305"
      },
      "source": [
        "plt.figure(figsize=(6,8))\n",
        "plt.scatter(array[0:3,0],array[0:3,1],color='red')\n",
        "plt.scatter(array[3:,0],array[3:,1],color='blue')\n",
        "plt.scatter(unknownPoint[0],unknownPoint[1],color='purple')\n",
        "circle = plt.Circle((unknownPoint[0], unknownPoint[1]), 0.55, color='purple', fill=False)\n",
        "plt.gcf().gca().add_artist(circle)\n",
        "plt.legend(['0','1'])\n",
        "plt.show()"
      ],
      "execution_count": null,
      "outputs": [
        {
          "output_type": "display_data",
          "data": {
            "image/png": "[encoded data removed]",
            "text/plain": [
              "<Figure size 432x576 with 1 Axes>"
            ]
          },
          "metadata": {
            "needs_background": "light"
          }
        }
      ]
    },
    {
      "cell_type": "markdown",
      "metadata": {
        "id": "K0RGzYdM5l3u"
      },
      "source": [
        "The graph above shows the closest nearest neighbor. If KNN is used the label for the unknown point would be 1."
      ]
    },
    {
      "cell_type": "markdown",
      "metadata": {
        "id": "U1i-4NHK3akL"
      },
      "source": [
        "<h2>Three Nearest Neighbors</h2>"
      ]
    },
    {
      "cell_type": "code",
      "metadata": {
        "colab": {
          "base_uri": "https://localhost:8080/",
          "height": 483
        },
        "id": "R5h4VeWE_hh7",
        "outputId": "c5153ee5-c8d8-4276-c53e-b4be268aaaf0"
      },
      "source": [
        "plt.figure(figsize=(6,8))\n",
        "plt.scatter(array[0:3,0],array[0:3,1],color='red')\n",
        "plt.scatter(array[3:,0],array[3:,1],color='blue')\n",
        "plt.scatter(unknownPoint[0],unknownPoint[1],color='purple')\n",
        "circle = plt.Circle((unknownPoint[0], unknownPoint[1]), 1.15, color='purple', fill=False)\n",
        "plt.gcf().gca().add_artist(circle)\n",
        "plt.legend(['0','1'])\n",
        "plt.show()"
      ],
      "execution_count": null,
      "outputs": [
        {
          "data": {
            "image/png": "[encoded data removed]",
            "text/plain": [
              "<Figure size 432x576 with 1 Axes>"
            ]
          },
          "metadata": {},
          "output_type": "display_data"
        }
      ]
    },
    {
      "cell_type": "markdown",
      "metadata": {
        "id": "cpJ6iifI5sh9"
      },
      "source": [
        "The graph above shows the closest nearest neighbor. If KNN is used the label for the unknown point would be 1."
      ]
    },
    {
      "cell_type": "markdown",
      "metadata": {
        "id": "7W5AbTWH3eUF"
      },
      "source": [
        "<h2>Five Nearest Neighbors</h2>"
      ]
    },
    {
      "cell_type": "code",
      "metadata": {
        "colab": {
          "base_uri": "https://localhost:8080/",
          "height": 432
        },
        "id": "Lhn6EA4Dt5t1",
        "outputId": "2bfc08f7-d8ed-48b8-f200-1d93df097a5c"
      },
      "source": [
        "plt.figure(figsize=(6,7))\n",
        "plt.scatter(array[0:3,0],array[0:3,1],color='red')\n",
        "plt.scatter(array[3:,0],array[3:,1],color='blue')\n",
        "plt.scatter(unknownPoint[0],unknownPoint[1],color='purple')\n",
        "circle = plt.Circle((unknownPoint[0], unknownPoint[1]), 1.84, color='purple', fill=False)\n",
        "plt.gcf().gca().add_artist(circle)\n",
        "plt.legend(['0','1'])\n",
        "plt.xlim(-0.5,4)\n",
        "plt.ylim(-0.1,5)\n",
        "plt.show()"
      ],
      "execution_count": null,
      "outputs": [
        {
          "data": {
            "image/png": "[encoded data removed]",
            "text/plain": [
              "<Figure size 432x504 with 1 Axes>"
            ]
          },
          "metadata": {},
          "output_type": "display_data"
        }
      ]
    },
    {
      "cell_type": "markdown",
      "metadata": {
        "id": "esoPenkFwvyZ"
      },
      "source": [
        "The graph above shows the closest five nearest neighbor. If KNN is used the label for the unknown point would be 1. The circles in each graph give a visualization of the bounded area of the closest points, since the distance from the center to the edge of the circle remains constant in all directions. Throughout this example the label of the unknown point changed depending on the number of nearest neighbors. Therefore, the number of neighbors plays an important role in how the label is determined. Another important factor is the number of data points in a dataset is import. If there are not enough data points, as seen in the previous example, then the label prediction is more likely to be subject to change. "
      ]
    },
    {
      "cell_type": "markdown",
      "metadata": {
        "id": "CVj_1d5PVNRh"
      },
      "source": [
        "<h2>Similar Problem</h2>"
      ]
    },
    {
      "cell_type": "markdown",
      "metadata": {
        "id": "sdFt7Y8pTZWd"
      },
      "source": [
        "The following is an example is similar to the one above. Use the same data and the same unknown point to solve. However, instead of using the stardard Euclidean distance formula. Use the following formula to calculate the distancances. The overall label will be the same, but the distances will be different."
      ]
    },
    {
      "cell_type": "markdown",
      "metadata": {
        "id": "KVMSUQ595rdG"
      },
      "source": [
        "$$\n",
        "D = \\sqrt[3]{|(x_2-x_1)|^3+|(y_2-y_1)|^3}\n",
        "$$"
      ]
    },
    {
      "cell_type": "code",
      "metadata": {
        "colab": {
          "base_uri": "https://localhost:8080/",
          "height": 520
        },
        "id": "CuWY187jVZp2",
        "outputId": "2363081e-a3dc-4bab-e324-e2c6e4b0c6f5"
      },
      "source": [
        "#Unknown Point\n",
        "unknownPoint = [1.5,3]\n",
        "#Create Array\n",
        "array = np.zeros((6,3))\n",
        "array[:,:] = [[0,0,0],[1,2,0],[1,4,0],[3,4,1],[2,3,1],[2.5,2,1]]\n",
        "head = ['X', 'Y','Label']\n",
        "#Display Table\n",
        "print(tabulate(array, headers=head, tablefmt=\"grid\"))\n",
        "#Scatter Plot\n",
        "plt.scatter(array[0:3,0],array[0:3,1],color='red')\n",
        "plt.scatter(array[3:,0],array[3:,1],color='blue')\n",
        "plt.show()"
      ],
      "execution_count": null,
      "outputs": [
        {
          "output_type": "stream",
          "name": "stdout",
          "text": [
            "+-----+-----+---------+\n",
            "|   X |   Y |   Label |\n",
            "+=====+=====+=========+\n",
            "| 0   |   0 |       0 |\n",
            "+-----+-----+---------+\n",
            "| 1   |   2 |       0 |\n",
            "+-----+-----+---------+\n",
            "| 1   |   4 |       0 |\n",
            "+-----+-----+---------+\n",
            "| 3   |   4 |       1 |\n",
            "+-----+-----+---------+\n",
            "| 2   |   3 |       1 |\n",
            "+-----+-----+---------+\n",
            "| 2.5 |   2 |       1 |\n",
            "+-----+-----+---------+\n"
          ]
        },
        {
          "output_type": "display_data",
          "data": {
            "image/png": "[encoded data removed]",
            "text/plain": [
              "<Figure size 432x288 with 1 Axes>"
            ]
          },
          "metadata": {
            "needs_background": "light"
          }
        }
      ]
    },
    {
      "cell_type": "markdown",
      "metadata": {
        "id": "hUow4nXHVsZf"
      },
      "source": [
        "The first task is to determine the closest point to the unknown point. Using the table find all of the Euclidean distances from each point to the unknown point.\n",
        "\n",
        "For the first point (0,0)\n",
        "$$\n",
        "D = \\sqrt[3]{|(1.5-0)|^3+|(3-0)|^3}\n",
        "$$\n",
        "$$\n",
        "D = 3.120 \n",
        "$$\n",
        "The second point (1,2)\n",
        "$$\n",
        "D = \\sqrt[3]{|(1.5-1)|^3+|(3-2)|^3}\n",
        "$$\n",
        "$$\n",
        "D = 1.040\n",
        "$$\n",
        "The third point (1,4)\n",
        "$$\n",
        "D = \\sqrt[3]{|(1.5-1)|^3+|(3-4)|^3}\n",
        "$$\n",
        "$$\n",
        "D = 1.040\n",
        "$$\n",
        "The fourth point (3,4)\n",
        "$$\n",
        "D = \\sqrt[3]{|(1.5-3)|^3+|(3-4)|^3}\n",
        "$$\n",
        "$$\n",
        "D = 1.636\n",
        "$$\n",
        "The fifth point (2,3)\n",
        "$$\n",
        "D = \\sqrt[3]{|(1.5-2)|^3+|(3-3)|^3}\n",
        "$$\n",
        "$$\n",
        "D = 0.5\n",
        "$$\n",
        "The sixth point (2.5,2)\n",
        "$$\n",
        "D = \\sqrt[3]{|(1.5-2.5)|^3+|(3-2)|^3}\n",
        "$$\n",
        "$$\n",
        "D = 1.260\n",
        "$$"
      ]
    },
    {
      "cell_type": "code",
      "metadata": {
        "colab": {
          "base_uri": "https://localhost:8080/"
        },
        "id": "_DV-GURyWdut",
        "outputId": "7884530e-1fe5-452d-d075-3a6c95e19dad"
      },
      "source": [
        "distances = np.zeros((6,3))\n",
        "distances[:,:] = [[1,np.cbrt((1.5-0)**3+(3-0)**3),0],[2,np.cbrt((1.5-1)**3+(3-2)**3),0],[3,np.cbrt((1.5-1)**3+np.abs((3-4)**3)),0],\n",
        "                  [4,np.cbrt((1.5-3)**3+np.abs((3-4)**3)),1],[5,np.cbrt(np.abs((1.5-2)**3)+(3-3)**3),1],[6,np.cbrt(np.abs((1.5-2.5))**3+(3-2)**3),1]]\n",
        "head = ['Point', 'Distance','Label']\n",
        "print(tabulate(distances, headers=head, tablefmt=\"grid\"))"
      ],
      "execution_count": null,
      "outputs": [
        {
          "output_type": "stream",
          "name": "stdout",
          "text": [
            "+---------+------------+---------+\n",
            "|   Point |   Distance |   Label |\n",
            "+=========+============+=========+\n",
            "|       1 |   3.12013  |       0 |\n",
            "+---------+------------+---------+\n",
            "|       2 |   1.04004  |       0 |\n",
            "+---------+------------+---------+\n",
            "|       3 |  -0.956466 |       0 |\n",
            "+---------+------------+---------+\n",
            "|       4 |  -1.63553  |       1 |\n",
            "+---------+------------+---------+\n",
            "|       5 |  -0.5      |       1 |\n",
            "+---------+------------+---------+\n",
            "|       6 |   0        |       1 |\n",
            "+---------+------------+---------+\n"
          ]
        }
      ]
    },
    {
      "cell_type": "markdown",
      "metadata": {
        "id": "7huYthlq1hML"
      },
      "source": [
        "<h2>K-Nearest Neighbors Python Implementation</h2>"
      ]
    },
    {
      "cell_type": "markdown",
      "metadata": {
        "id": "MAh7npwmzZgq"
      },
      "source": [
        "The next example shows an implementation of KNN in a real world dataset. The dataset being used is from credit card loan applications. The dataset can be found at https://datahub.io/machine-learning/credit-approval#resource-credit-approval.\n",
        "\n",
        "The dataset is comprised of 690 rows. Each row represents an individual's application entries. In each row, there is 11 features and a label. The label is represent as 0 if not approved, and 1 if approved."
      ]
    },
    {
      "cell_type": "markdown",
      "metadata": {
        "id": "Ml3IM1pr1P2M"
      },
      "source": [
        "The first step is to import the desired packages."
      ]
    },
    {
      "cell_type": "code",
      "metadata": {
        "id": "OgkJpERyt74M"
      },
      "source": [
        "import numpy as np\n",
        "import pandas as pa\n",
        "import matplotlib.pyplot as plt\n",
        "import sklearn"
      ],
      "execution_count": null,
      "outputs": []
    },
    {
      "cell_type": "markdown",
      "metadata": {
        "id": "tfh65a-v1qU_"
      },
      "source": [
        "The second step is to upload the dataset, randomize it rowise, and label the columns. The dataset is saved on GitHub for easy upload access into Colab."
      ]
    },
    {
      "cell_type": "code",
      "metadata": {
        "id": "frdGA5Y3lBG5"
      },
      "source": [
        "url = 'https://raw.githubusercontent.com/estrickler1/OperationsResearchClassification/main/data.csv'\n",
        "data = pa.read_csv(url)\n",
        "data = data.sample(n=len(data))     #Randomizer\n",
        "data.columns = np.arange(len(data.columns))     #Labels Columns"
      ],
      "execution_count": null,
      "outputs": []
    },
    {
      "cell_type": "markdown",
      "metadata": {
        "id": "K7I1WSmS2DCL"
      },
      "source": [
        "The next step is to clean the dataset. The dataset upload had strings, which the Euclidean distance cannot be calculated from. Since each column with strings only had twp different strings, they were converted to 0 and 1. The third column is dropped due to an unknown error within the dataset."
      ]
    },
    {
      "cell_type": "code",
      "metadata": {
        "id": "GdZSo75koqfK"
      },
      "source": [
        "data = data.replace('f',int(0))\n",
        "data = data.replace('t',int(1))\n",
        "data = data.replace('u',int(0))\n",
        "data = data.replace('y',int(1))\n",
        "data = data.replace('a',int(0))\n",
        "data = data.replace('b',int(1))\n",
        "data = data.replace('-',int(0))\n",
        "data = data.replace('+',int(1))\n",
        "data = data.replace('0',int(0))\n",
        "data = data.dropna()\n",
        "data = data.drop(3,axis=1)\n",
        "data = data.reset_index(drop=True)        #Reindexer"
      ],
      "execution_count": null,
      "outputs": []
    },
    {
      "cell_type": "markdown",
      "metadata": {
        "id": "JCxaYK023knP"
      },
      "source": [
        "The function below is the KNN algorithm. The first step is to divide the dataset into features and corresponding labels. Next, the features and labels are divided into training and testing arrays. The StandardScaler is used to normalize the features. Then the KNN algorithm is trained on the traing features and labels. Next, the KNN algorithm uses the testing features to predict the testing labels. The accuracy for the testing data is calculated and returned. The accuracy is measure on the testing data to cross-validate K-Nearest Neighbors. Cross-validation is used to measure the preformance of any implentation."
      ]
    },
    {
      "cell_type": "code",
      "metadata": {
        "id": "8oEPPI_AvDmT"
      },
      "source": [
        "def KNNAlgorithm(dataset, testPercent, neighbors):\n",
        "  x = dataset.iloc[:,:-1]\n",
        "  label = dataset.iloc[:,-1]\n",
        "  xTrain, xTest, labelTrain, labelTest= train_test_split(x, label, test_size=0.3 testPercent)\n",
        "  s = StandardScaler()\n",
        "  s.fit(xTrain)\n",
        "  xTrain= s.transform(xTrain)\n",
        "  s.fit(xTest)\n",
        "  xTest= s.transform(xTest)\n",
        "\n",
        "  knn= KNN(n_neighbors=neighbors)\n",
        "  knn.fit(xTrain,labelTrain)\n",
        "  labelPredict= knn.predict(xTest)\n",
        "  score = metrics.accuracy_score(labelTest,labelPredict)\n",
        "  return score"
      ],
      "execution_count": null,
      "outputs": []
    },
    {
      "cell_type": "markdown",
      "metadata": {
        "id": "tSmoktht4rk_"
      },
      "source": [
        "The next funtion is not necessarliy needed. However, due to the way KNN is calculated the function allows the user to find the best number of nearest neighbors and its accuracy."
      ]
    },
    {
      "cell_type": "code",
      "metadata": {
        "id": "kNxaLeH42DbJ"
      },
      "source": [
        "def maxAccuracy(dataset, testPercent, maxNeighbors):\n",
        "  best = 0\n",
        "  for i in range(3,maxNeighbors):\n",
        "    score = KNNAlgorithm(dataset,testPercent, i)\n",
        "    if score > best:\n",
        "      best = score\n",
        "      bestNeighbors = i\n",
        "  return best, bestNeighbors"
      ],
      "execution_count": null,
      "outputs": []
    },
    {
      "cell_type": "markdown",
      "metadata": {
        "id": "48YSboXq5xaZ"
      },
      "source": [
        "The following lines are calling the functions to run on the inputted datset.The following lines are calling the functions to run on the inputted datset."
      ]
    },
    {
      "cell_type": "code",
      "metadata": {
        "colab": {
          "base_uri": "https://localhost:8080/"
        },
        "id": "RpZsticHvKdb",
        "outputId": "a7fa77be-cfd9-451e-e262-f39fe211121a"
      },
      "source": [
        "KNNAlgorithm(data,20,6)"
      ],
      "execution_count": null,
      "outputs": [
        {
          "data": {
            "text/plain": [
              "0.75"
            ]
          },
          "execution_count": 41,
          "metadata": {},
          "output_type": "execute_result"
        }
      ]
    },
    {
      "cell_type": "code",
      "metadata": {
        "colab": {
          "base_uri": "https://localhost:8080/"
        },
        "id": "x0wXqDKr2qfY",
        "outputId": "57fcb2a6-6277-4148-db78-9d6aadaf1960"
      },
      "source": [
        "maxAccuracy(data,20,10)"
      ],
      "execution_count": null,
      "outputs": [
        {
          "data": {
            "text/plain": [
              "(0.9, 4)"
            ]
          },
          "execution_count": 42,
          "metadata": {},
          "output_type": "execute_result"
        }
      ]
    },
    {
      "cell_type": "markdown",
      "metadata": {
        "id": "tSRFLYg05zRE"
      },
      "source": [
        "<h2>Questions</h2>\n",
        "\n",
        "\n",
        "1.   What does the k in k-Nearest Neighbors stand for?\n",
        "2.   Would k-Nearest Neighbors work for a binary system, if so how?\n",
        "3.   What are the advantages of k-Nearest Neighbors compared to other classification techniques?\n",
        "\n",
        "\n"
      ]
    },
    {
      "cell_type": "markdown",
      "metadata": {
        "id": "6FhLCWl4nE78"
      },
      "source": [
        "<h1></center>Decision Tree\n",
        "\n",
        "<h1>Introduction</center></h1> \n",
        "<font size=5>\n",
        "\n",
        "Decision tree is a widely used supervised machine learning algorithm. This algorithm can used for regression and classification problems, yet most widely used for classification problems. A decission tree follows a bunch of if-else conditions to picture the n=information and characterize it as per the conditions. For example:\n",
        "\n"
      ]
    },
    {
      "cell_type": "markdown",
      "metadata": {
        "id": "Pt_UkWJ1s5Y4"
      },
      "source": [
        "![B03905_05_01-compressor.png](data:image/png;base64,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)"
      ]
    },
    {
      "cell_type": "markdown",
      "metadata": {
        "id": "p5jU8OwqjFuT"
      },
      "source": [
        "<h1>History</h1>\n",
        "\n",
        "\n",
        "When we look at the history of decision tree it comes from long way back and when it comes to algorithm it becomes difficult to pinpoint who invented what.When it comes to decision tree it is relatively new however their root can betraced all the way back to Babylonians.When we talked about babylonians they used to  use very advanced civilization who founded many mathematical concepts. One of these concepts was the quadratic($x^2$+bx=c) and cubic equations(a$x^3$+b$x^2$=c) where babylonians thrived somewhere around 2000BC to 500BC\n",
        "\n",
        "When we come more closer to the civilization history we see more cool innovations such as Aristotle's \"categories\". He has included text like  \"man arges\",\"horse runs\" which looks more like decision tree machine learning.\n",
        "When it comes to modern days in 1963 the department of Statistics at the University of Wisconsin-Madison writes first regression tree. It had an impurity measureand recursively split data into two subjects. In 1966(by Hunt) the Institute of Computing Science in the Pozan University of technology states that one of the first publications on decision tree.In 1972 the first classification tree appeared in the THAID project by Messenger and Mandell, it worked via splitting data to maximize the sum of cases in the modal category.\n",
        "In 1974 statistics professor Leo Breiman and Charles Stone from Berkeley and Jerome Friedman and Richard Olshen from Stanford started developing the classification and regression tree(CART) algorithm. In 1977 Breiman, Stone, Friedman, and Olshen invented the first cart version. In 1984 the official publication with a CART software which was a revalotion in the world of algorithms.Later in 1986 John Ross Quinlan proposed a new concept; tree with multiple answers. Quinal invented ID3(Iterative Dichotomiser 3) using an impurity criterion called gain ratio.\n",
        "\n"
      ]
    },
    {
      "cell_type": "markdown",
      "metadata": {
        "id": "eDyhK57HvkDq"
      },
      "source": [
        "<h1><center>How Does Decision Tree Work?</center></h1>\n",
        "<font size=5>\n",
        "Decision tree also works like a human mind whenever we try to solve any problem our first step starts with a question. In a similar way in a decision tree the datas are seperated step by step. Here data would isolate in remarkable pices and, at long last, we would divide tests which is the pitch of whole concept.\n",
        "Here are some termonology in order to understand concept fo bata mining better:\n",
        "\n",
        "\n",
        "1.   Node: Nodes are every oblect in a tree. It contains subest of data, and excluding leaf nodes, a question splits the subset.\n",
        "2.   Parent node: Parent node is a node that makes a data split.\n",
        "3.   Child Node: Child node is a resulting node. It can also be a parent for its children.\n",
        "4.   Leaf node: Leaf node is a final node with no other final questions.\n",
        "5.   Branch: Branch is a unique line of the questions with answers that flow to a leaf node\n",
        "6.   Root: It is the top node.\n",
        "\n",
        "\n",
        "\n",
        "\n"
      ]
    },
    {
      "cell_type": "markdown",
      "metadata": {
        "id": "pxY_DECzfdwx"
      },
      "source": [
        "<h1><center>Gini Index</center></h1>\n",
        "Gini Index, otherwise called Gini impurity, works out the measure of probability of a particular component that is grouped erroneously when chosen arbitrarily. In the event that every one of the components are connected with a solitary class, it very well may be called pure.\n",
        "\n",
        "Lets see the measure of the Gini Index, similar to the properties of entropy, the Gini list changes between values 0 and 1, where 0 expresses the purity of arrangement, for example, Every one of the components have a place with a predefined class or just one class exists there. Also, 1 demonstrates the irregular dissemination of components across different classes. The worth of 0.5 of the Gini Index shows an equivalent circulation of components over certain classes.\n",
        "\n",
        "While planning the choice tree, the highlights having minimal worth of the Gini Index would get preferred. We can become familiar with another tree-based algorithm(Random Forest).\n",
        "The Gini Index is dictated by deducting the amount of squared of probabilities of each class from one, numerically, Gini Index can be shown as:\n",
        "\n",
        "\\begin{align}\n",
        "\\mathbf{Gini Index} =1- \\sum_{i=1}^n (P_i)^2\n",
        "\\end{align}\n",
        "\n",
        "\n",
        "\n"
      ]
    },
    {
      "cell_type": "code",
      "metadata": {
        "id": "K-Gbcjq1zkPn"
      },
      "source": [
        "import numpy as np\n",
        "import pandas as pa\n",
        "from matplotlib import pyplot as plt\n",
        "from sklearn import datasets\n",
        "from sklearn.tree import DecisionTreeClassifier \n",
        "from sklearn.model_selection import train_test_split\n",
        "from sklearn import metrics\n",
        "from sklearn import tree"
      ],
      "execution_count": null,
      "outputs": []
    },
    {
      "cell_type": "code",
      "metadata": {
        "id": "HW02zWLgzp12"
      },
      "source": [
        "col_names = ['pregnant', 'glucose', 'bp', 'skin', 'insulin', 'bmi', 'pedigree', 'age', 'label']\n",
        "url = 'https://raw.githubusercontent.com/rajatlamsalecok/OperationsResearchClassification/main/diabetes.csv'\n",
        "data = pa.read_csv(url,header=None, names=col_names)\n",
        "#data = data.sample(n=len(data))     #Randomizer\n",
        "#data.columns = np.arange(len(data.columns))     #Labels Columns\n"
      ],
      "execution_count": null,
      "outputs": []
    },
    {
      "cell_type": "code",
      "metadata": {
        "id": "h4PBdjZazuCd"
      },
      "source": [
        "data = data.drop([0,0])"
      ],
      "execution_count": null,
      "outputs": []
    },
    {
      "cell_type": "code",
      "metadata": {
        "colab": {
          "base_uri": "https://localhost:8080/",
          "height": 206
        },
        "id": "Nw3NSX_Pzw50",
        "outputId": "0cd6cd70-2c30-49dd-a3ab-26c46a29b078"
      },
      "source": [
        "data.head()"
      ],
      "execution_count": null,
      "outputs": [
        {
          "output_type": "execute_result",
          "data": {
            "text/html": [
              "<div>\n",
              "<style scoped>\n",
              "    .dataframe tbody tr th:only-of-type {\n",
              "        vertical-align: middle;\n",
              "    }\n",
              "\n",
              "    .dataframe tbody tr th {\n",
              "        vertical-align: top;\n",
              "    }\n",
              "\n",
              "    .dataframe thead th {\n",
              "        text-align: right;\n",
              "    }\n",
              "</style>\n",
              "<table border=\"1\" class=\"dataframe\">\n",
              "  <thead>\n",
              "    <tr style=\"text-align: right;\">\n",
              "      <th></th>\n",
              "      <th>pregnant</th>\n",
              "      <th>glucose</th>\n",
              "      <th>bp</th>\n",
              "      <th>skin</th>\n",
              "      <th>insulin</th>\n",
              "      <th>bmi</th>\n",
              "      <th>pedigree</th>\n",
              "      <th>age</th>\n",
              "      <th>label</th>\n",
              "    </tr>\n",
              "  </thead>\n",
              "  <tbody>\n",
              "    <tr>\n",
              "      <th>1</th>\n",
              "      <td>6</td>\n",
              "      <td>148</td>\n",
              "      <td>72</td>\n",
              "      <td>35</td>\n",
              "      <td>0</td>\n",
              "      <td>33.6</td>\n",
              "      <td>0.627</td>\n",
              "      <td>50</td>\n",
              "      <td>1</td>\n",
              "    </tr>\n",
              "    <tr>\n",
              "      <th>2</th>\n",
              "      <td>1</td>\n",
              "      <td>85</td>\n",
              "      <td>66</td>\n",
              "      <td>29</td>\n",
              "      <td>0</td>\n",
              "      <td>26.6</td>\n",
              "      <td>0.351</td>\n",
              "      <td>31</td>\n",
              "      <td>0</td>\n",
              "    </tr>\n",
              "    <tr>\n",
              "      <th>3</th>\n",
              "      <td>8</td>\n",
              "      <td>183</td>\n",
              "      <td>64</td>\n",
              "      <td>0</td>\n",
              "      <td>0</td>\n",
              "      <td>23.3</td>\n",
              "      <td>0.672</td>\n",
              "      <td>32</td>\n",
              "      <td>1</td>\n",
              "    </tr>\n",
              "    <tr>\n",
              "      <th>4</th>\n",
              "      <td>1</td>\n",
              "      <td>89</td>\n",
              "      <td>66</td>\n",
              "      <td>23</td>\n",
              "      <td>94</td>\n",
              "      <td>28.1</td>\n",
              "      <td>0.167</td>\n",
              "      <td>21</td>\n",
              "      <td>0</td>\n",
              "    </tr>\n",
              "    <tr>\n",
              "      <th>5</th>\n",
              "      <td>0</td>\n",
              "      <td>137</td>\n",
              "      <td>40</td>\n",
              "      <td>35</td>\n",
              "      <td>168</td>\n",
              "      <td>43.1</td>\n",
              "      <td>2.288</td>\n",
              "      <td>33</td>\n",
              "      <td>1</td>\n",
              "    </tr>\n",
              "  </tbody>\n",
              "</table>\n",
              "</div>"
            ],
            "text/plain": [
              "  pregnant glucose  bp skin insulin   bmi pedigree age label\n",
              "1        6     148  72   35       0  33.6    0.627  50     1\n",
              "2        1      85  66   29       0  26.6    0.351  31     0\n",
              "3        8     183  64    0       0  23.3    0.672  32     1\n",
              "4        1      89  66   23      94  28.1    0.167  21     0\n",
              "5        0     137  40   35     168  43.1    2.288  33     1"
            ]
          },
          "metadata": {},
          "execution_count": 4
        }
      ]
    },
    {
      "cell_type": "code",
      "metadata": {
        "id": "lXJkrxUszzmD"
      },
      "source": [
        "feature_cols = ['pregnant', 'insulin', 'bmi', 'age','glucose','bp','pedigree']\n",
        "X = data[feature_cols] # Features\n",
        "y = data.label # Target variable"
      ],
      "execution_count": null,
      "outputs": []
    },
    {
      "cell_type": "code",
      "metadata": {
        "id": "7lP7zvwQz082"
      },
      "source": [
        "# Split dataset into training set and test set\n",
        "X_train, X_test, y_train, y_test = train_test_split(X, y, test_size=0.3, random_state=1) # 70% training and 30% test"
      ],
      "execution_count": null,
      "outputs": []
    },
    {
      "cell_type": "code",
      "metadata": {
        "id": "k0IGv8jGz3hj"
      },
      "source": [
        "# Create Decision Tree classifer object\n",
        "clf = DecisionTreeClassifier()\n",
        "\n",
        "# Train Decision Tree Classifer\n",
        "clf = clf.fit(X_train,y_train)\n",
        "\n",
        "#Predict the response for test dataset\n",
        "y_pred = clf.predict(X_test)"
      ],
      "execution_count": null,
      "outputs": []
    },
    {
      "cell_type": "code",
      "metadata": {
        "colab": {
          "base_uri": "https://localhost:8080/"
        },
        "id": "plp3y1KOz6Xe",
        "outputId": "2ba41835-6af4-4ffd-c28f-4d5747df7c91"
      },
      "source": [
        "# Model Accuracy, how often is the classifier correct?\n",
        "print(\"Accuracy:\",metrics.accuracy_score(y_test, y_pred))"
      ],
      "execution_count": null,
      "outputs": [
        {
          "output_type": "stream",
          "name": "stdout",
          "text": [
            "Accuracy: 0.6623376623376623\n"
          ]
        }
      ]
    },
    {
      "cell_type": "markdown",
      "metadata": {
        "id": "hp5BSaKUvWhA"
      },
      "source": [
        "<h1><center>References</center></h1>\n",
        "\n",
        "<h6>Fix, E., Hodges, J.L. Discriminatory analysis, nonparametric discrimination: Consistency properties. Technical Report 4, USAF School of Aviation Medicine, Randolph Field, Texas, 1951.</h6>\n",
        "\n",
        "<h6>Merriam-Webster. (n.d.). Classification. Merriam-Webster. Retrieved October 26, 2021, from https://www.merriam-webster.com/dictionary/classification. </h6>\n",
        "\n",
        "<h6>Weinberger, K. Q., Blitzer, J., &amp; Saul, L. K. (n.d.). Distance metric learning for large margin ... - neurips. Retrieved October 26, 2021, from https://proceedings.neurips.cc/paper/2005/file/a7f592cef8b130a6967a90617db5681b-Paper.pdf. </h6>"
      ]
    },
    {
      "cell_type": "markdown",
      "metadata": {
        "id": "qxptcm_zfwOc"
      },
      "source": [
        "<h1>Authors</h1>\n",
        "\n",
        "Principal authors of this chapter were: Avishu Lamsal; Rajat Lamsal; Ethan Strickler"
      ]
    }
  ]
}
