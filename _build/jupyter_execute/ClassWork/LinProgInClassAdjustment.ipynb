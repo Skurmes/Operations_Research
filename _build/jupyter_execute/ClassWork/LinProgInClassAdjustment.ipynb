{
 "cells": [
  {
   "cell_type": "markdown",
   "metadata": {
    "colab_type": "text",
    "id": "view-in-github"
   },
   "source": [
    "<a href=\"https://colab.research.google.com/github/nurfnick/Operations_Research/blob/main/LinProgInClassAdjustment.ipynb\" target=\"_parent\"><img src=\"https://colab.research.google.com/assets/colab-badge.svg\" alt=\"Open In Colab\"/></a>"
   ]
  },
  {
   "cell_type": "code",
   "execution_count": 106,
   "metadata": {
    "id": "DT9mcmqvFGCw"
   },
   "outputs": [],
   "source": [
    "import numpy as np\n",
    "\n",
    "A = np.array([[7,3,6,1,0],[4,4,5,0,1]])\n",
    "b= np.array([300,200])"
   ]
  },
  {
   "cell_type": "code",
   "execution_count": 87,
   "metadata": {
    "colab": {
     "base_uri": "https://localhost:8080/"
    },
    "id": "kjuDAF6RFSdX",
    "outputId": "2ba7cf2e-84af-47d3-cea9-daac31890967"
   },
   "outputs": [
    {
     "name": "stdout",
     "output_type": "stream",
     "text": [
      "(0, 1)\n",
      "(0, 2)\n",
      "(0, 3)\n",
      "(0, 4)\n",
      "(1, 2)\n",
      "(1, 3)\n",
      "(1, 4)\n",
      "(2, 3)\n",
      "(2, 4)\n",
      "(3, 4)\n"
     ]
    }
   ],
   "source": [
    "import itertools\n",
    "\n",
    "for i in itertools.combinations(range(5), r=2):\n",
    "  print(i)\n",
    "#np.linalg.solve(A,b)"
   ]
  },
  {
   "cell_type": "code",
   "execution_count": 88,
   "metadata": {
    "colab": {
     "base_uri": "https://localhost:8080/"
    },
    "id": "0ulYWGJzLYqS",
    "outputId": "886e207a-b1b5-4fc9-821c-8ca23476b100"
   },
   "outputs": [
    {
     "data": {
      "text/plain": [
       "[[0, 1],\n",
       " [0, 2],\n",
       " [0, 3],\n",
       " [0, 4],\n",
       " [1, 2],\n",
       " [1, 3],\n",
       " [1, 4],\n",
       " [2, 3],\n",
       " [2, 4],\n",
       " [3, 4]]"
      ]
     },
     "execution_count": 88,
     "metadata": {},
     "output_type": "execute_result"
    }
   ],
   "source": [
    "index = [[i,j] for i in range(5) for j in range(i+1,5)]\n",
    "\n",
    "index"
   ]
  },
  {
   "cell_type": "code",
   "execution_count": 89,
   "metadata": {
    "colab": {
     "base_uri": "https://localhost:8080/"
    },
    "id": "fT6UPc69K1Ck",
    "outputId": "08fa95aa-1581-471b-a694-10e3ab8f88a9"
   },
   "outputs": [
    {
     "name": "stdout",
     "output_type": "stream",
     "text": [
      "[37.5 12.5]\n",
      "[27.27272727 18.18181818]\n",
      "[ 50. -50.]\n",
      "[42.85714286 28.57142857]\n",
      "[-33.33333333  66.66666667]\n",
      "[ 50. 150.]\n",
      "[ 100. -200.]\n",
      "[40. 60.]\n",
      "[ 50. -50.]\n",
      "[300. 200.]\n"
     ]
    }
   ],
   "source": [
    "for i in index:\n",
    "  print(np.linalg.solve(A[:,i],b))"
   ]
  },
  {
   "cell_type": "code",
   "execution_count": 90,
   "metadata": {
    "id": "_Wd-D7IEMP-i"
   },
   "outputs": [],
   "source": [
    "d = {0:'small',1:'med',2:'large',3:'slacklabor',4:'slackmaterial'}"
   ]
  },
  {
   "cell_type": "code",
   "execution_count": 91,
   "metadata": {
    "colab": {
     "base_uri": "https://localhost:8080/",
     "height": 36
    },
    "id": "zDkaTjp2MlF5",
    "outputId": "0b166f7c-7e5e-45cf-9f4c-1d50c62060c5"
   },
   "outputs": [
    {
     "data": {
      "application/vnd.google.colaboratory.intrinsic+json": {
       "type": "string"
      },
      "text/plain": [
       "'slackmaterial'"
      ]
     },
     "execution_count": 91,
     "metadata": {},
     "output_type": "execute_result"
    }
   ],
   "source": [
    "d[4]"
   ]
  },
  {
   "cell_type": "code",
   "execution_count": 92,
   "metadata": {
    "colab": {
     "base_uri": "https://localhost:8080/"
    },
    "id": "bfp-rldQNdl1",
    "outputId": "e367f28e-fe98-4fe2-a581-e3c9342c1cd6"
   },
   "outputs": [
    {
     "name": "stdout",
     "output_type": "stream",
     "text": [
      "('small', 'med') [37.5 12.5]\n",
      "('small', 'large') [27.27272727 18.18181818]\n",
      "('small', 'slacklabor') [ 50. -50.]\n",
      "('small', 'slackmaterial') [42.85714286 28.57142857]\n",
      "('med', 'large') [-33.33333333  66.66666667]\n",
      "('med', 'slacklabor') [ 50. 150.]\n",
      "('med', 'slackmaterial') [ 100. -200.]\n",
      "('large', 'slacklabor') [40. 60.]\n",
      "('large', 'slackmaterial') [ 50. -50.]\n",
      "('slacklabor', 'slackmaterial') [300. 200.]\n"
     ]
    }
   ],
   "source": [
    "\n",
    "\n",
    "for i in index:\n",
    "  print((d[i[0]],d[i[1]]),np.linalg.solve(A[:,i],b))"
   ]
  },
  {
   "cell_type": "code",
   "execution_count": 93,
   "metadata": {
    "id": "Lj9p-4tROGTY"
   },
   "outputs": [],
   "source": [
    "def profit(list):\n",
    "  return 4*list[0]+2*list[1]+3*list[2]\n"
   ]
  },
  {
   "cell_type": "code",
   "execution_count": 95,
   "metadata": {
    "colab": {
     "base_uri": "https://localhost:8080/"
    },
    "id": "Vie3zQKEOUjG",
    "outputId": "e3c46919-0582-4517-ba78-4e26f4d65c22"
   },
   "outputs": [
    {
     "data": {
      "text/plain": [
       "[0, 0, 40.00000000000001, 59.99999999999998, 0]"
      ]
     },
     "execution_count": 95,
     "metadata": {},
     "output_type": "execute_result"
    }
   ],
   "source": [
    "newlist = []\n",
    "indexref = [2,3]\n",
    "solution = np.linalg.solve(A[:,indexref],b)\n",
    "def buildFullList(indexref,solution):\n",
    "  newlist =[]\n",
    "  solutioncounter = 0\n",
    "  for j in range(5):\n",
    "    if j not in indexref:\n",
    "      newlist.append(0)\n",
    "    else:\n",
    "      newlist.append(solution[solutioncounter])\n",
    "      solutioncounter += 1\n",
    "  return newlist\n",
    "\n",
    "buildFullList(indexref,solution)"
   ]
  },
  {
   "cell_type": "code",
   "execution_count": 96,
   "metadata": {
    "colab": {
     "base_uri": "https://localhost:8080/"
    },
    "id": "ViRJe0zMQKBJ",
    "outputId": "56325e31-f662-4e95-9745-58579180fa75"
   },
   "outputs": [
    {
     "name": "stdout",
     "output_type": "stream",
     "text": [
      "('small', 'med') [37.5 12.5] [37.5, 12.500000000000005, 0, 0, 0] 175.0\n",
      "('small', 'large') [27.27272727 18.18181818] [27.272727272727273, 0, 18.181818181818183, 0, 0] 163.63636363636363\n",
      "('small', 'slacklabor') [ 50. -50.] [50.0, 0, 0, -50.00000000000002, 0] 200.0\n",
      "('small', 'slackmaterial') [42.85714286 28.57142857] [42.857142857142854, 0, 0, 0, 28.57142857142858] 171.42857142857142\n",
      "('med', 'large') [-33.33333333  66.66666667] [0, -33.33333333333334, 66.66666666666667, 0, 0] 133.33333333333331\n",
      "('med', 'slacklabor') [ 50. 150.] [0, 50.0, 0, 150.0, 0] 100.0\n",
      "('med', 'slackmaterial') [ 100. -200.] [0, 100.0, 0, 0, -200.0] 200.0\n",
      "('large', 'slacklabor') [40. 60.] [0, 0, 40.00000000000001, 59.99999999999998, 0] 120.00000000000003\n",
      "('large', 'slackmaterial') [ 50. -50.] [0, 0, 50.0, 0, -49.99999999999998] 150.0\n",
      "('slacklabor', 'slackmaterial') [300. 200.] [0, 0, 0, 300.0, 200.0] 0\n"
     ]
    }
   ],
   "source": [
    "for i in index:\n",
    "  solution = np.linalg.solve(A[:,i],b)\n",
    "  print((d[i[0]],d[i[1]]),solution,buildFullList(i,solution),profit(buildFullList(i,solution)))"
   ]
  },
  {
   "cell_type": "code",
   "execution_count": 99,
   "metadata": {
    "id": "-XW8Vjk8REUl"
   },
   "outputs": [],
   "source": [
    "def testForFeasible(list1):\n",
    "  return all([i>=0 for i in list1])\n"
   ]
  },
  {
   "cell_type": "code",
   "execution_count": 100,
   "metadata": {
    "colab": {
     "base_uri": "https://localhost:8080/"
    },
    "id": "Bex58lvbRhbi",
    "outputId": "46c04a73-40f1-4e43-b90b-71a5c5252001"
   },
   "outputs": [
    {
     "data": {
      "text/plain": [
       "True"
      ]
     },
     "execution_count": 100,
     "metadata": {},
     "output_type": "execute_result"
    }
   ],
   "source": [
    "all([i>=0 for i in buildFullList(indexref,solution)])"
   ]
  },
  {
   "cell_type": "code",
   "execution_count": 101,
   "metadata": {
    "colab": {
     "base_uri": "https://localhost:8080/"
    },
    "id": "HAa2TdnCRQA6",
    "outputId": "92bddbaa-2152-4369-ddc7-75ce760cdcb2"
   },
   "outputs": [
    {
     "data": {
      "text/plain": [
       "[0, 0, 300.0, 200.0, 0]"
      ]
     },
     "execution_count": 101,
     "metadata": {},
     "output_type": "execute_result"
    }
   ],
   "source": [
    "buildFullList(indexref,solution)"
   ]
  },
  {
   "cell_type": "code",
   "execution_count": 102,
   "metadata": {
    "colab": {
     "base_uri": "https://localhost:8080/"
    },
    "id": "mhWq5HkrSK85",
    "outputId": "8187589d-80ed-4cee-df80-598b53ca1080"
   },
   "outputs": [
    {
     "name": "stdout",
     "output_type": "stream",
     "text": [
      "('small', 'med') [37.5 12.5] [37.5, 12.500000000000005, 0, 0, 0] 175.0 True\n",
      "('small', 'large') [27.27272727 18.18181818] [27.272727272727273, 0, 18.181818181818183, 0, 0] 163.63636363636363 True\n",
      "('small', 'slacklabor') [ 50. -50.] [50.0, 0, 0, -50.00000000000002, 0] 200.0 False\n",
      "('small', 'slackmaterial') [42.85714286 28.57142857] [42.857142857142854, 0, 0, 0, 28.57142857142858] 171.42857142857142 True\n",
      "('med', 'large') [-33.33333333  66.66666667] [0, -33.33333333333334, 66.66666666666667, 0, 0] 133.33333333333331 False\n",
      "('med', 'slacklabor') [ 50. 150.] [0, 50.0, 0, 150.0, 0] 100.0 True\n",
      "('med', 'slackmaterial') [ 100. -200.] [0, 100.0, 0, 0, -200.0] 200.0 False\n",
      "('large', 'slacklabor') [40. 60.] [0, 0, 40.00000000000001, 59.99999999999998, 0] 120.00000000000003 True\n",
      "('large', 'slackmaterial') [ 50. -50.] [0, 0, 50.0, 0, -49.99999999999998] 150.0 False\n",
      "('slacklabor', 'slackmaterial') [300. 200.] [0, 0, 0, 300.0, 200.0] 0 True\n"
     ]
    }
   ],
   "source": [
    "for i in index:\n",
    "  solution = np.linalg.solve(A[:,i],b)\n",
    "  list1 = buildFullList(i,solution)\n",
    "  print((d[i[0]],d[i[1]]),solution,list1,profit(list1),testForFeasible(list1))"
   ]
  },
  {
   "cell_type": "code",
   "execution_count": 103,
   "metadata": {
    "id": "AoDcDKJpS0Kg"
   },
   "outputs": [],
   "source": [
    "X = []\n",
    "for i in index:\n",
    "  solution = np.linalg.solve(A[:,i],b)\n",
    "  list1 = buildFullList(i,solution)\n",
    "  X.append([(d[i[0]],d[i[1]]),solution,list1,profit(list1),testForFeasible(list1)])"
   ]
  },
  {
   "cell_type": "code",
   "execution_count": 104,
   "metadata": {
    "colab": {
     "base_uri": "https://localhost:8080/",
     "height": 467
    },
    "id": "TQiZfYcFTiqN",
    "outputId": "9b5f3c2e-8975-4718-effa-4e126cd60b5a"
   },
   "outputs": [
    {
     "data": {
      "text/html": [
       "<div>\n",
       "<style scoped>\n",
       "    .dataframe tbody tr th:only-of-type {\n",
       "        vertical-align: middle;\n",
       "    }\n",
       "\n",
       "    .dataframe tbody tr th {\n",
       "        vertical-align: top;\n",
       "    }\n",
       "\n",
       "    .dataframe thead th {\n",
       "        text-align: right;\n",
       "    }\n",
       "</style>\n",
       "<table border=\"1\" class=\"dataframe\">\n",
       "  <thead>\n",
       "    <tr style=\"text-align: right;\">\n",
       "      <th></th>\n",
       "      <th>Variables Used</th>\n",
       "      <th>Solution</th>\n",
       "      <th>Expanded with Zeros</th>\n",
       "      <th>Profit</th>\n",
       "      <th>In Feasible</th>\n",
       "    </tr>\n",
       "  </thead>\n",
       "  <tbody>\n",
       "    <tr>\n",
       "      <th>0</th>\n",
       "      <td>(small, med)</td>\n",
       "      <td>[37.5, 12.500000000000005]</td>\n",
       "      <td>[37.5, 12.500000000000005, 0, 0, 0]</td>\n",
       "      <td>175.000000</td>\n",
       "      <td>True</td>\n",
       "    </tr>\n",
       "    <tr>\n",
       "      <th>1</th>\n",
       "      <td>(small, large)</td>\n",
       "      <td>[27.272727272727273, 18.181818181818183]</td>\n",
       "      <td>[27.272727272727273, 0, 18.181818181818183, 0, 0]</td>\n",
       "      <td>163.636364</td>\n",
       "      <td>True</td>\n",
       "    </tr>\n",
       "    <tr>\n",
       "      <th>2</th>\n",
       "      <td>(small, slacklabor)</td>\n",
       "      <td>[50.0, -50.00000000000002]</td>\n",
       "      <td>[50.0, 0, 0, -50.00000000000002, 0]</td>\n",
       "      <td>200.000000</td>\n",
       "      <td>False</td>\n",
       "    </tr>\n",
       "    <tr>\n",
       "      <th>3</th>\n",
       "      <td>(small, slackmaterial)</td>\n",
       "      <td>[42.857142857142854, 28.57142857142858]</td>\n",
       "      <td>[42.857142857142854, 0, 0, 0, 28.57142857142858]</td>\n",
       "      <td>171.428571</td>\n",
       "      <td>True</td>\n",
       "    </tr>\n",
       "    <tr>\n",
       "      <th>4</th>\n",
       "      <td>(med, large)</td>\n",
       "      <td>[-33.33333333333334, 66.66666666666667]</td>\n",
       "      <td>[0, -33.33333333333334, 66.66666666666667, 0, 0]</td>\n",
       "      <td>133.333333</td>\n",
       "      <td>False</td>\n",
       "    </tr>\n",
       "    <tr>\n",
       "      <th>5</th>\n",
       "      <td>(med, slacklabor)</td>\n",
       "      <td>[50.0, 150.0]</td>\n",
       "      <td>[0, 50.0, 0, 150.0, 0]</td>\n",
       "      <td>100.000000</td>\n",
       "      <td>True</td>\n",
       "    </tr>\n",
       "    <tr>\n",
       "      <th>6</th>\n",
       "      <td>(med, slackmaterial)</td>\n",
       "      <td>[100.0, -200.0]</td>\n",
       "      <td>[0, 100.0, 0, 0, -200.0]</td>\n",
       "      <td>200.000000</td>\n",
       "      <td>False</td>\n",
       "    </tr>\n",
       "    <tr>\n",
       "      <th>7</th>\n",
       "      <td>(large, slacklabor)</td>\n",
       "      <td>[40.00000000000001, 59.99999999999998]</td>\n",
       "      <td>[0, 0, 40.00000000000001, 59.99999999999998, 0]</td>\n",
       "      <td>120.000000</td>\n",
       "      <td>True</td>\n",
       "    </tr>\n",
       "    <tr>\n",
       "      <th>8</th>\n",
       "      <td>(large, slackmaterial)</td>\n",
       "      <td>[50.0, -49.99999999999998]</td>\n",
       "      <td>[0, 0, 50.0, 0, -49.99999999999998]</td>\n",
       "      <td>150.000000</td>\n",
       "      <td>False</td>\n",
       "    </tr>\n",
       "    <tr>\n",
       "      <th>9</th>\n",
       "      <td>(slacklabor, slackmaterial)</td>\n",
       "      <td>[300.0, 200.0]</td>\n",
       "      <td>[0, 0, 0, 300.0, 200.0]</td>\n",
       "      <td>0.000000</td>\n",
       "      <td>True</td>\n",
       "    </tr>\n",
       "  </tbody>\n",
       "</table>\n",
       "</div>"
      ],
      "text/plain": [
       "                Variables Used  ... In Feasible\n",
       "0                 (small, med)  ...        True\n",
       "1               (small, large)  ...        True\n",
       "2          (small, slacklabor)  ...       False\n",
       "3       (small, slackmaterial)  ...        True\n",
       "4                 (med, large)  ...       False\n",
       "5            (med, slacklabor)  ...        True\n",
       "6         (med, slackmaterial)  ...       False\n",
       "7          (large, slacklabor)  ...        True\n",
       "8       (large, slackmaterial)  ...       False\n",
       "9  (slacklabor, slackmaterial)  ...        True\n",
       "\n",
       "[10 rows x 5 columns]"
      ]
     },
     "execution_count": 104,
     "metadata": {},
     "output_type": "execute_result"
    }
   ],
   "source": [
    "import pandas as pd\n",
    "\n",
    "pd.DataFrame(X,columns = ['Variables Used','Solution','Expanded with Zeros','Profit','In Feasible'])"
   ]
  },
  {
   "cell_type": "code",
   "execution_count": 109,
   "metadata": {
    "colab": {
     "base_uri": "https://localhost:8080/"
    },
    "id": "5w5sgaLeFcwL",
    "outputId": "6ee2a4b4-705e-4a83-b658-19f5d3e495ba"
   },
   "outputs": [
    {
     "name": "stderr",
     "output_type": "stream",
     "text": [
      "/usr/local/lib/python3.7/dist-packages/numpy/core/fromnumeric.py:87: VisibleDeprecationWarning: Creating an ndarray from ragged nested sequences (which is a list-or-tuple of lists-or-tuples-or ndarrays with different lengths or shapes) is deprecated. If you meant to do this, you must specify 'dtype=object' when creating the ndarray\n",
      "  return ufunc.reduce(obj, axis, dtype, out, **passkwargs)\n"
     ]
    },
    {
     "data": {
      "text/plain": [
       "     con: array([], dtype=float64)\n",
       "     fun: -174.99999996917586\n",
       " message: 'Optimization terminated successfully.'\n",
       "     nit: 5\n",
       "   slack: array([5.02170678e-08, 4.08952303e-08])\n",
       "  status: 0\n",
       " success: True\n",
       "       x: array([3.75000000e+01, 1.25000000e+01, 9.65956894e-10])"
      ]
     },
     "execution_count": 109,
     "metadata": {},
     "output_type": "execute_result"
    }
   ],
   "source": [
    "from scipy.optimize import linprog\n",
    "\n",
    "linprog([-4,-2,-3],A[:,0:3],b)"
   ]
  },
  {
   "cell_type": "code",
   "execution_count": null,
   "metadata": {
    "id": "JoEi-sMuGpWO"
   },
   "outputs": [],
   "source": []
  }
 ],
 "metadata": {
  "colab": {
   "authorship_tag": "ABX9TyPmNXpTOgu1T1EtKPlYQ1E3",
   "include_colab_link": true,
   "name": "Untitled43.ipynb",
   "provenance": []
  },
  "kernelspec": {
   "display_name": "Python 3",
   "name": "python3"
  },
  "language_info": {
   "name": "python"
  }
 },
 "nbformat": 4,
 "nbformat_minor": 0
}