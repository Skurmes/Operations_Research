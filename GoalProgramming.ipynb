{
  "nbformat": 4,
  "nbformat_minor": 0,
  "metadata": {
    "colab": {
      "name": "Untitled30.ipynb",
      "provenance": [],
      "include_colab_link": true
    },
    "kernelspec": {
      "name": "python3",
      "display_name": "Python 3"
    },
    "language_info": {
      "name": "python"
    }
  },
  "cells": [
    {
      "cell_type": "markdown",
      "metadata": {
        "id": "view-in-github",
        "colab_type": "text"
      },
      "source": [
        "<a href=\"https://colab.research.google.com/github/arungyaw/Operations_Research/blob/main/GoalProgramming.ipynb\" target=\"_parent\"><img src=\"https://colab.research.google.com/assets/colab-badge.svg\" alt=\"Open In Colab\"/></a>"
      ]
    },
    {
      "cell_type": "markdown",
      "metadata": {
        "id": "i_4QVqdV96a6"
      },
      "source": [
        "# Goal Programming"
      ]
    },
    {
      "cell_type": "markdown",
      "metadata": {
        "id": "n0AD_VXnYiKq"
      },
      "source": [
        "## Introduction\n",
        "\n",
        "Goal Programming is a modification and extension of linear programming, Goal Programming extends the linear programming formulation to accommodate mathematical programming with multiple objectives\n",
        "It is a branch of multi-objective optimization and is based under multi-criteria decision-making analysis (MCDMA). This is an optimization programming to handle multiple,\n",
        "normally conflicting objective measures. Measures are given a goal or target value to be achieved.\n",
        "Unwanted deviations from this set of target values are then minimized in an achievement function.\n",
        "This can be a vector or a weighted sum dependent on the goal programming variant used.\n",
        "\n",
        "## Types of Goal Programming models.\n",
        "\n",
        "In Goal Programming there are two basic models: the preemptive (lexicographic) model and the non-preemptive (Archimedean) model.\n",
        "\n",
        "In the pre-emptive model, goals are ranked according to their priorities. The goals at a certain priority level are considered to be infinitely more important than the goals at the next level. In this model the problem is optimized one goal at a time so that the optimal value of the higher-ranking goal is not compromised by lower ranking goal.\n",
        "\n",
        "In the non-preemptive model, all the goals are of comparably equal importance, but in non-preemptive model the constraints have certain upper and lower limits and as long as the solution is within those limits it is considered optimal.\n",
        "\n",
        "\n",
        "\n",
        "## Steps of Goal Programming.\n",
        "\n",
        "Goal programming is used to perform three types of analysis:\n",
        "1. Determine the required resources to achieve a desired set of objectives.\n",
        "2. Determine the degree of attainment of the goals with the available resources.\n",
        "3. Providing the best satisfying solution under a varying number of resources and priorities of\n",
        "the goals."
      ]
    },
    {
      "cell_type": "markdown",
      "metadata": {
        "id": "rIUEoiT4bPk6"
      },
      "source": [
        "##Why Goal Programming?\n",
        "Goal Programming is used to solve problems in real life that have several objectives, for example if a healthcare company only focuses on providing top-quality healthcare the profit for the company might not be what they expected or if a publishing company spends too much time in making an error free book the release date might be pushed beyond the initial date, so focusing on only one objective can affect the goal that is important to an organization, Goal Programming can simultaneously take into account several objectives and provide an optimal solution which can help achieve the desired goal."
      ]
    },
    {
      "cell_type": "markdown",
      "metadata": {
        "id": "DVKCnmI8UBTG"
      },
      "source": [
        "## History of Goal Programming.\n",
        "\n",
        "The history of Goal Programming goes back to the years after the end of the 2nd world war when the industrial world was facing depression, though it wasn’t officially called Goal Programming then, industrialists were trying out various models which was successfully solving their problems and they soon learnt that this mathematical technique could be easily applied to solve industrial problems. Goal Programming was used to minimize the cost of production, increase the productivity, and use the available resources carefully and for healthy industrial growth. After that various model of Goal Programming were developed to solve industrial problems, so we can say that industries played an important role in the development of Goal Programming. Goal Programming was first used by Charnes, Cooper and Ferguson in 1955, but officially the name Goal Programming was mentioned in 1961 in a text by Charnes and Cooper.\n",
        "\n",
        "The first engineering application of Goal Programming was used for design and placement of the antennas on the second stage of the Saturn V rocket in 1962, which was used to launch the Apollo space capsule that landed the first men on the moon.\n"
      ]
    },
    {
      "cell_type": "markdown",
      "metadata": {
        "id": "5GgWvxZMYjTU"
      },
      "source": [
        "##Difference between Goal Programming and Linear Programming\n",
        "Goal Programming is a problem related programming which focuses on multicriteria decision making which implies more than one objective. Somewhat, it has similarities to Linear Programming and can also be solved using Simplex method, Python or Lingo. \n",
        "\n",
        "The difference is that while the Linear Programming works on an objective function to be optimized, subjects to absolute constraints, the Goal Programming operates on more objective functions with priorities, whose goals can be reached to a greater or lesser extent. For this reason, the GP model is more flexible than LP one, aiming at a satisfactory solution rather than optimizing (Sikha, 2018).A goal programming (GP) model deals with goals simultaneously that are of concern to a decision maker. While a Linear Programming model consists of constraints and a single objective function to be maximized or minimized (Nesticò,2020).\n",
        ". For ex: We have a problem where in linear programming our solution would have been: minimize cost but in Goal Programming we can have two(conflicting) objectives such as: minimize cost and do not produce excess one or maybe three(conflicting) objectives.\n",
        "\n"
      ]
    },
    {
      "cell_type": "markdown",
      "metadata": {
        "id": "DGC5WaH4Y98C"
      },
      "source": [
        "## Problems"
      ]
    },
    {
      "cell_type": "markdown",
      "metadata": {
        "id": "KR_uQi3QERdc"
      },
      "source": [
        "Suppose a company is considering three forms of advertising: Television($X_1$), Radio($X_2$), and internet ($X_3$). Each television spot costs \\$3000 to run and reaches 1,000 new potential customers; each radio spot costs \\$800 to run and reaches 500 new customers; and each internet ad costs \\$250 to run and reaches 200 new customers.\n",
        "Let’s say the company has three goals (not a single like LP)\n",
        "\n",
        "\n",
        "*   Goal 1: Spend no more than $25,000 on advertising.\n",
        "\n",
        "\n",
        "*   Goal 2: Reach at least 30,000 new potential customers.\n",
        "\n",
        "\n",
        "* Goal 3: Run at least 10 television spots\n",
        "\n",
        "##Solution:\n",
        "We can make constraints for the following conditions:\n",
        "\n",
        "\n",
        "\n",
        " \n",
        "*   **$3000X_1 + 800X_2 + 250X_3 \\leq 25000$----(i)**\n",
        "*  **$1000X_1 + 500X_2 + 200X_3 \\leq 30000$ ----(ii)**\n",
        "*   **$X_1 \\leq 10$ ------(iii)**\n",
        " \n",
        " If we look at equation (iii), it contradicts with equation (i) and the problem will be unsolvable . So, the problem couldn't be solved through this approach. That's why we have to use Goal Programming for this problem. So, we will suppose new variables for further :\n",
        "\n",
        " **$U_i$ = the amount by which L.H.S falls short of its R.H.S Value.**\n",
        " \n",
        " **$E_i$ = the amount by which L.H.S exceeds its R.H.S value.**\n",
        "  \n",
        "  So, now we can write our equations as:\n",
        "\n",
        "*   **$3000X_1 + 800X_2 + 250X_3 + U_1 - E_1 = 25000$----(i)**\n",
        "*   **$1000X_1 + 500X_2 + 200X_3 + U_2 - E_2 = 30000$ ----(ii) **  \n",
        "*   **$X_1 + U_3 - E_3 = 10$ ------(iii)**\n",
        "*  ** $X_1,X_2,X_3,U_1,U_2,U_3,E_1,E_2,E_3 >= 0$ **\n",
        "\n",
        "Now we will arrange it in matrix form for our our python using simplex:\n",
        "\n",
        "$$\n",
        "\\left[\\begin{array}{ccccccccc|c}\n",
        " 3000 &  800 & 250 & 1 & -1 & 0 & 0 & 0 & 0 &       25000\\\\\n",
        "   1000 &  500 & 200 & 0 &  0 & 1 &-1 & 0& 0 &       30000\\\\ \n",
        "   1   &    0&    0&    0 &  0  & 0 &  0 & 1 &-1&   10 \n",
        "   \\end{array}\n",
        "   \\right]\n",
        "   $$\n",
        " \n",
        " But this will not be enough , we will need a new objective so:\n",
        "\n",
        "Let’s suppose management determines that each extra dollar spent on advertising above \\\\$25,000 costs the company \\\\$1 and that the company suffers a loss of \\$5 for each potential customers not reached below the goal of \\\\$30,000 and each television spot below 10 is worth 100 times each dollar over the budget. i.e\n",
        "\n",
        "\n",
        "*   Goal 4: **Minimize** **$E_1 + 5U_2 + 100U_3$**\n",
        "\n",
        "Now, we got our variables and our goal, so we will use python to find out the best value for our problem:\n",
        "\n",
        "\n",
        "\n",
        "\n",
        "\n",
        "\n",
        "\n",
        "\n",
        "\n",
        "\n",
        "\n",
        "\n",
        "\n",
        "\n",
        "\n",
        "\n",
        "\n"
      ]
    },
    {
      "cell_type": "code",
      "metadata": {
        "id": "mbMCC1ZMZAHk"
      },
      "source": [
        "\n",
        "import numpy as np  #import numpy as np package for array\n",
        "\n",
        "from scipy.optimize import linprog  #import linprog from scipy.optimize for linear solving\n",
        "\n"
      ],
      "execution_count": null,
      "outputs": []
    },
    {
      "cell_type": "code",
      "metadata": {
        "id": "2dFWHQGOrFoj"
      },
      "source": [
        "Minimize = [0,0,0,0,1,5,0,100,0]  ##Array listed as [X1,X2,X3,U1,E1,U2,E2,U3,E3]\n",
        "                             ## objective[Minimize=E1+5U2+100E3]\n",
        "\n",
        "Points = [[3000,800,250,1,-1,0,0,0,0], # Left hand values of matrix respectively represented in arrays.\n",
        "          [1000,500,200,0,0,1,-1,0,0],\n",
        "          [1,0,0,0,0,0,0,1,-1]]\n",
        "Value =[25000,                           #R.H.S values listed respectively in arrays.\n",
        "         30000,      \n",
        "         10]         "
      ],
      "execution_count": null,
      "outputs": []
    },
    {
      "cell_type": "code",
      "metadata": {
        "id": "CqXBIBgY0jKe"
      },
      "source": [
        "Limit = [(0,float(\"inf\")),    # Bound the variables X1, X2, X3, U1 , E1, U2, E2, U3, E3 >= 0\n",
        "       (0,float(\"inf\")),\n",
        "       (0,float(\"inf\")),\n",
        "       (0,float(\"inf\")),\n",
        "       (0,float(\"inf\")),\n",
        "       (0,float(\"inf\")),\n",
        "       (0,float(\"inf\")),\n",
        "       (0,float(\"inf\")),\n",
        "       (0,float(\"inf\"))]"
      ],
      "execution_count": null,
      "outputs": []
    },
    {
      "cell_type": "code",
      "metadata": {
        "id": "IbmSi8dx1Fhf",
        "outputId": "c3c993e8-8738-4db6-80c1-609b18c1ffe3",
        "colab": {
          "base_uri": "https://localhost:8080/",
          "height": 328
        }
      },
      "source": [
        "opt = linprog(c=Minimize,\n",
        "              A_eq=Points, b_eq=Value, bounds=Limit, method= \"revised simplex\")     #Function to solve the problems using simplex method.\n"
      ],
      "execution_count": 33,
      "outputs": [
        {
          "output_type": "error",
          "ename": "ValueError",
          "evalue": "ignored",
          "traceback": [
            "\u001b[0;31m---------------------------------------------------------------------------\u001b[0m",
            "\u001b[0;31mValueError\u001b[0m                                Traceback (most recent call last)",
            "\u001b[0;32m<ipython-input-33-7c35dc16669c>\u001b[0m in \u001b[0;36m<module>\u001b[0;34m()\u001b[0m\n\u001b[1;32m      1\u001b[0m opt = linprog(c=Minimize,\n\u001b[0;32m----> 2\u001b[0;31m               A_eq=Points, b_eq=Value, bounds=Limit, method= \"revised simplex\")     #Function to solve the problems using simplex method.\n\u001b[0m",
            "\u001b[0;32m/usr/local/lib/python3.7/dist-packages/scipy/optimize/_linprog.py\u001b[0m in \u001b[0;36mlinprog\u001b[0;34m(c, A_ub, b_ub, A_eq, b_eq, bounds, method, callback, options, x0)\u001b[0m\n\u001b[1;32m    515\u001b[0m \u001b[0;34m\u001b[0m\u001b[0m\n\u001b[1;32m    516\u001b[0m     c, A_ub, b_ub, A_eq, b_eq, bounds, solver_options, x0 = _parse_linprog(\n\u001b[0;32m--> 517\u001b[0;31m         c, A_ub, b_ub, A_eq, b_eq, bounds, options, x0)\n\u001b[0m\u001b[1;32m    518\u001b[0m     \u001b[0mtol\u001b[0m \u001b[0;34m=\u001b[0m \u001b[0msolver_options\u001b[0m\u001b[0;34m.\u001b[0m\u001b[0mget\u001b[0m\u001b[0;34m(\u001b[0m\u001b[0;34m'tol'\u001b[0m\u001b[0;34m,\u001b[0m \u001b[0;36m1e-9\u001b[0m\u001b[0;34m)\u001b[0m\u001b[0;34m\u001b[0m\u001b[0;34m\u001b[0m\u001b[0m\n\u001b[1;32m    519\u001b[0m \u001b[0;34m\u001b[0m\u001b[0m\n",
            "\u001b[0;32m/usr/local/lib/python3.7/dist-packages/scipy/optimize/_linprog_util.py\u001b[0m in \u001b[0;36m_parse_linprog\u001b[0;34m(c, A_ub, b_ub, A_eq, b_eq, bounds, options, x0)\u001b[0m\n\u001b[1;32m    878\u001b[0m     \u001b[0;31m# Convert lists to numpy arrays, etc...\u001b[0m\u001b[0;34m\u001b[0m\u001b[0;34m\u001b[0m\u001b[0;34m\u001b[0m\u001b[0m\n\u001b[1;32m    879\u001b[0m     c, A_ub, b_ub, A_eq, b_eq, bounds, x0 = _clean_inputs(\n\u001b[0;32m--> 880\u001b[0;31m         c, A_ub, b_ub, A_eq, b_eq, bounds, x0)\n\u001b[0m\u001b[1;32m    881\u001b[0m     \u001b[0;32mreturn\u001b[0m \u001b[0mc\u001b[0m\u001b[0;34m,\u001b[0m \u001b[0mA_ub\u001b[0m\u001b[0;34m,\u001b[0m \u001b[0mb_ub\u001b[0m\u001b[0;34m,\u001b[0m \u001b[0mA_eq\u001b[0m\u001b[0;34m,\u001b[0m \u001b[0mb_eq\u001b[0m\u001b[0;34m,\u001b[0m \u001b[0mbounds\u001b[0m\u001b[0;34m,\u001b[0m \u001b[0msolver_options\u001b[0m\u001b[0;34m,\u001b[0m \u001b[0mx0\u001b[0m\u001b[0;34m\u001b[0m\u001b[0;34m\u001b[0m\u001b[0m\n\u001b[1;32m    882\u001b[0m \u001b[0;34m\u001b[0m\u001b[0m\n",
            "\u001b[0;32m/usr/local/lib/python3.7/dist-packages/scipy/optimize/_linprog_util.py\u001b[0m in \u001b[0;36m_clean_inputs\u001b[0;34m(c, A_ub, b_ub, A_eq, b_eq, bounds, x0)\u001b[0m\n\u001b[1;32m    254\u001b[0m         \u001b[0;32mif\u001b[0m \u001b[0mlen\u001b[0m\u001b[0;34m(\u001b[0m\u001b[0mA_eq\u001b[0m\u001b[0;34m.\u001b[0m\u001b[0mshape\u001b[0m\u001b[0;34m)\u001b[0m \u001b[0;34m!=\u001b[0m \u001b[0;36m2\u001b[0m \u001b[0;32mor\u001b[0m \u001b[0mA_eq\u001b[0m\u001b[0;34m.\u001b[0m\u001b[0mshape\u001b[0m\u001b[0;34m[\u001b[0m\u001b[0;36m1\u001b[0m\u001b[0;34m]\u001b[0m \u001b[0;34m!=\u001b[0m \u001b[0mn_x\u001b[0m\u001b[0;34m:\u001b[0m\u001b[0;34m\u001b[0m\u001b[0;34m\u001b[0m\u001b[0m\n\u001b[1;32m    255\u001b[0m             raise ValueError(\n\u001b[0;32m--> 256\u001b[0;31m                 \u001b[0;34m\"Invalid input for linprog: A_eq must have exactly two \"\u001b[0m\u001b[0;34m\u001b[0m\u001b[0;34m\u001b[0m\u001b[0m\n\u001b[0m\u001b[1;32m    257\u001b[0m                 \u001b[0;34m\"dimensions, and the number of columns in A_eq must be \"\u001b[0m\u001b[0;34m\u001b[0m\u001b[0;34m\u001b[0m\u001b[0m\n\u001b[1;32m    258\u001b[0m                 \"equal to the size of c\")\n",
            "\u001b[0;31mValueError\u001b[0m: Invalid input for linprog: A_eq must have exactly two dimensions, and the number of columns in A_eq must be equal to the size of c"
          ]
        }
      ]
    },
    {
      "cell_type": "code",
      "metadata": {
        "colab": {
          "base_uri": "https://localhost:8080/",
          "height": 165
        },
        "id": "bOFdB5b5QI6v",
        "outputId": "61e2bbf6-ad05-4dc1-e1dd-faad779fb109"
      },
      "source": [
        "np.round(opt.x,decimals=3)  # Best solution for variables."
      ],
      "execution_count": 28,
      "outputs": [
        {
          "output_type": "error",
          "ename": "NameError",
          "evalue": "ignored",
          "traceback": [
            "\u001b[0;31m---------------------------------------------------------------------------\u001b[0m",
            "\u001b[0;31mNameError\u001b[0m                                 Traceback (most recent call last)",
            "\u001b[0;32m<ipython-input-28-e30bfb90d29d>\u001b[0m in \u001b[0;36m<module>\u001b[0;34m()\u001b[0m\n\u001b[0;32m----> 1\u001b[0;31m \u001b[0mnp\u001b[0m\u001b[0;34m.\u001b[0m\u001b[0mround\u001b[0m\u001b[0;34m(\u001b[0m\u001b[0mopt\u001b[0m\u001b[0;34m.\u001b[0m\u001b[0mx\u001b[0m\u001b[0;34m,\u001b[0m\u001b[0mdecimals\u001b[0m\u001b[0;34m=\u001b[0m\u001b[0;36m3\u001b[0m\u001b[0;34m)\u001b[0m  \u001b[0;31m# Best solution for variables.\u001b[0m\u001b[0;34m\u001b[0m\u001b[0;34m\u001b[0m\u001b[0m\n\u001b[0m",
            "\u001b[0;31mNameError\u001b[0m: name 'opt' is not defined"
          ]
        }
      ]
    },
    {
      "cell_type": "code",
      "metadata": {
        "id": "VmaT1M784bEl",
        "colab": {
          "base_uri": "https://localhost:8080/"
        },
        "outputId": "73475ee6-97d4-4016-ea88-728790a87d22"
      },
      "source": [
        "np.round(opt.fun,decimals=3)  # Best Solution for minimize function"
      ],
      "execution_count": null,
      "outputs": [
        {
          "output_type": "execute_result",
          "data": {
            "text/plain": [
              "13500.0"
            ]
          },
          "metadata": {},
          "execution_count": 145
        }
      ]
    },
    {
      "cell_type": "markdown",
      "metadata": {
        "id": "3LNLkQ6OTu-3"
      },
      "source": [
        "So,if the manufacturer gets 150 internet spots, \\$12,500 dollars over the budget for television spots and 10 less television spots, they will have to spend the minimum amount of \\$13,500 over budget to reach their desired goal."
      ]
    },
    {
      "cell_type": "markdown",
      "metadata": {
        "id": "qPPn9_hbBlHV"
      },
      "source": [
        "**Problem:2**"
      ]
    },
    {
      "cell_type": "markdown",
      "metadata": {
        "id": "SK4ezk5B7mt4"
      },
      "source": [
        "\n",
        "\n",
        "The New England Cycle Company is planning next month’s production of its two bicycles: its B2 tandem bicycle built for two and its S10 single-rider 10-speed model. Both models use the same seats and tires. Management has been informed that 2000 seats,1000 gear assemblies (only the S10 requires a gear assembly), and 2400 tires are available next month for production. On the average, it takes two hours to produce a B2 and three hours to produce a S10 bicycle. The accounting department estimates that each B2 yields a profit of \\\\$40 and each S10 yields a profit of \\$100. \n",
        "Management has set the following prioritized goals:\n",
        "\n",
        "**Priority 1: Fulfill a contract for 400 B2 bicycle that is promised to deliver to vendors in Ocean City, Maryland, next month.**\n",
        "\n",
        "**Priority 2: Produce at least 1000 total bicycles during the month.**\n",
        "\n",
        "**Priority 3:\n",
        "(1)\tAchieve at least \\$100,000 profit for the month\n",
        "(2)\tUse no more than 1600 labor-hours during the month.**\n",
        "\n",
        "**Each \\\\$1000 short of the \\$100,000 goal is considered 30 times as important as utilizing an extra labor-hour.**\n",
        "\n",
        "**Priority 4: The company is developing a new cycle, so it would like to have:\n",
        "(1)\tAt least 200 tires left over at the end of the month.\n",
        "(2)\tAt least 100 gear assemblies left over at the end of the month.**\n",
        "\n",
        "**Each leftover gear assembly is deemed twice as important as a leftover tire.\n",
        "Management wants to determine the production schedule that best meets its prioritized objectives.**\n",
        "\n",
        "**Solution:**\n",
        "\n",
        "Management at the New England Cycle Company wishes to:\n",
        "\n",
        "•\tDetermine next month’s production quantities of B2 and S10 bicycles.\n",
        "\n",
        "•\tAvoid exceeding expected availabilities of seats, gear assemblies, and tires.\n",
        "\n",
        "•\tCome as close as possible to meeting its priority 1 goal first (production of 400 B2 cycles).\n",
        "\n",
        "•\tMeet its priority 2 goal (Production of 1000 cycles total) as closely as possible without disturbing the optimal level of its priority 1 goal.\n",
        "\n",
        "•\tMeet as closely as possible its priority 3 goals ($100,000 in profit, utilization of no more than 1600 man-hours) without disturbing the optimal levels of its priority 1 and 2 goals.\n",
        "\n",
        "•\tMeet as closely as possible its priority 4 goals (200 leftover tires and 100 leftover gear assemblies) in a ratio of 1:2 without disturbing the optimal levels of its priority 1,2 and 3 goals.\n",
        "\n",
        "**Decision Variables:**\n",
        "\n",
        "The decision variables for this model are:\n",
        "\n",
        "**X1: the number of B2s to be produced next month**\n",
        "\n",
        "**X2: the number of S10s to be produced next month**\n",
        "\n",
        "**Functional / nonnegativity constraints**\n",
        "\n",
        "**The functional constraints are:**\n",
        "\n",
        "$$2X_1 + X_2 \\leq 2000 Seats$$\n",
        "\n",
        "$$X_2 \\leq 1000 Gear Assemblies$$\n",
        "\n",
        "$$2X_1 + 2X_2 \\leq 2400 Tires$$\n",
        "\n",
        "$$X_1, X_2 \\geq 0 Nonnegativity$$\n",
        "\n",
        "**Goal Equations**\n",
        "\n",
        "The goal equations for the four priority levels are:\n",
        "\n",
        "**Priority 1: (Goal 1) Production of at least 400 B2 cycles:**\n",
        "\n",
        "$$X_1 + U_1 – E_1 = 400$$\n",
        "\n",
        "**Priority 2: (Goal 2) Production of at least 1000 total cycles:**\n",
        "\n",
        "$$X_1 + X_2 + U_2 – E_2 = 1000$$\n",
        "\n",
        "**Priority 3: (Goal 3) Profit of at least $100,000:**\n",
        "\n",
        "$$0.04X_1 +0.10X_2 + U_3 - E_3 =100$$\n",
        "\n",
        "**(Goal 4):Use a maximum of 1600 labor-hours:**\n",
        "\n",
        "$$2X_1 + 3X_2 + U_4 - E_4 = 1600$$\n",
        "          \n",
        "              \n",
        "**Priority 4: (Goal 5) Hence, at least 200 leftover tires (this is equivalent to using no more than 2200 tires):**\n",
        "\n",
        "$$2X_1 + 2X_2 + U_5 – E_5 = 2200$$\n",
        "\n",
        "**(Goal 6): Hence at least 100 leftover gear assemblies (this is equivalent to using no more than 900 gear assemblies):**\n",
        "\n",
        " $$X_2 + U_6 – E_6 = 900$$\n",
        "\n",
        "**Priority level objectives:**\n",
        "\n",
        "The detrimental deviations, respectively are:\n",
        "\n",
        "**Priority 1: Underachieving 400 B2s (U1)**\n",
        "\n",
        "**Priority 2: Underachieving a 1000 production level (U2)**\n",
        "\n",
        "**Priority 3: Underachieving a $100,000 profit (U3)**\n",
        "**Using more than 1600 labor-hours (E4)**\n",
        "\n",
        "**Priority 4: Using more than 2200 tires (E5)\n",
        "Using more than 900 gear assemblies (E6)**\n",
        "\n",
        "Thus, the corresponding priority objectives are:\n",
        "\n",
        "**Priority 1: Minimize $$V_1 = U_1$$**\n",
        "\n",
        "**Priority 2: Minimize $$V_2 = U_2$$**\n",
        "\n",
        "**Priority 3: Minimize $$V_3 = 30U_3 + E_4$$**\n",
        "\n",
        "**Priority 4: Minimize $$V_4 = E_5 + 2E_6$$**\n",
        "\n"
      ]
    },
    {
      "cell_type": "markdown",
      "metadata": {
        "id": "ayRLyGVHWVe5"
      },
      "source": [
        "##Solve it:\n",
        "Suppose a company is considering manufacturing three forms of products: Television$(X_1)$, Radio$(X_2)$, and Tablets$(X_3)$. Each television manufacturing costs \\$300 to run and sells to 10,000 new potential customers each week; each radio manufacturing costs \\$80 to run and sells to 5,000 new customers; and each tablet manufacturing costs \\$100 to run and sells to 2,000 new customers. The company has three goals:\n",
        "\n",
        "\n",
        "•**Goal 1: Spend no more than $20,000 on manufacturing.**\n",
        "\n",
        "•\t**Goal 2: Reach at least 35,000 new potential customers.**\n",
        "\n",
        "• **Goal 3: Sell at least 100 televisions.**\n",
        "\n",
        "\n",
        "\n",
        "\n"
      ]
    },
    {
      "cell_type": "markdown",
      "metadata": {
        "id": "fb2uZl1q_LR_"
      },
      "source": [
        "## References\n",
        "\n",
        "•\tAntonio Nesticò, C. E. (2020). **An Economic Model for Selecting Urban-Scale Projects.** Springer, Cham.\n",
        "\n",
        "•\tJha, P. (n.d.). **Goal Programming.** Retrieved from \"http://du.ac.in/du/uploads/departments/Operational%20Research/25042020_Goal%20Programming.pdf\"\n",
        "\n",
        "•\tSikha, T. (2018). **Comparison between Goal Programming and other Linear Programming Methods.**\n",
        "\n",
        "•\t **Nonlinear Models:Dynamic ,Goal, and Linear Programming.** ”https://www.ams.jhu.edu/~castello/625.414/Handouts/GoalProg.pdf”\n",
        "\n",
        "•\tMirko Stojiljkovic. **Hands-On Linear Programming: Optimization With Python**;  \" https://realpython.com/linear-programming-pyth\"\n",
        "\n",
        "•\tDusseldorp, V. and Ralph, A., 1976. **Applications of Goal Programming to Education.** [ebook] Phoenix, AZ. Available at: “https://www.science.gov/topicpages/g/goal+programming+theoretical.html”\n",
        "\n",
        "•\tDan Dan, E. and Desmond .O., 2013. **GOAL PROGRAMMING: - An Application To Budgetary Allocation Of An Institution Of Higher Learning.** [ebook] Available at: https://www.researchgate.net \n",
        "\n"
      ]
    },
    {
      "cell_type": "markdown",
      "metadata": {
        "id": "C8i0wsUKijeP"
      },
      "source": [
        "### Authors"
      ]
    },
    {
      "cell_type": "markdown",
      "metadata": {
        "id": "rajid0PdipzE"
      },
      "source": [
        "Principal authors of this chapter were: \n",
        "[Arun Gyawali](https://github.com/arungyaw),[Khaji Butler](https://github.com/khajibutler),[Utshav Hamal](https://github.com/utsham)"
      ]
    }
  ]
}