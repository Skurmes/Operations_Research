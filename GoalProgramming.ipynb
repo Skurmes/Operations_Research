{
  "nbformat": 4,
  "nbformat_minor": 0,
  "metadata": {
    "colab": {
      "name": "Untitled30.ipynb",
      "provenance": [],
      "include_colab_link": true
    },
    "kernelspec": {
      "name": "python3",
      "display_name": "Python 3"
    },
    "language_info": {
      "name": "python"
    }
  },
  "cells": [
    {
      "cell_type": "markdown",
      "metadata": {
        "id": "view-in-github",
        "colab_type": "text"
      },
      "source": [
        "<a href=\"https://colab.research.google.com/github/arungyaw/Operations_Research/blob/main/GoalProgramming.ipynb\" target=\"_parent\"><img src=\"https://colab.research.google.com/assets/colab-badge.svg\" alt=\"Open In Colab\"/></a>"
      ]
    },
    {
      "cell_type": "markdown",
      "metadata": {
        "id": "i_4QVqdV96a6"
      },
      "source": [
        "# Goal Programming"
      ]
    },
    {
      "cell_type": "markdown",
      "metadata": {
        "id": "n0AD_VXnYiKq"
      },
      "source": [
        "## **Introduction**\n",
        "\n",
        "Goal Programming is a modification and extension of linear programming, Goal Programming extends the linear programming formulation to accommodate mathematical programming with multiple objectives\n",
        "It is a branch of multi-objective optimization and is based under multi-criteria decision-making analysis (MCDMA). This is an optimization programming to handle multiple,\n",
        "normally conflicting objective measures. Measures are given a goal or target value to be achieved.\n",
        "Unwanted deviations from this set of target values are then minimized in an achievement function.\n",
        "This can be a vector or a weighted sum dependent on the goal programming variant used.\n",
        "\n",
        "## **Types of Goal Programming models.**\n",
        "\n",
        "In Goal Programming there are two basic models: the preemptive (lexicographic) model and the non-preemptive (Archimedean) model.\n",
        "\n",
        "In the pre-emptive model, goals are ranked according to their priorities. The goals at a certain priority level are considered to be infinitely more important than the goals at the next level. In this model the problem is optimized one goal at a time so that the optimal value of the higher-ranking goal is not compromised by lower ranking goal.\n",
        "\n",
        "In the non-preemptive model, all the goals are of comparably equal importance, but in non-preemptive model the constraints have certain upper and lower limits and as long as the solution is within those limits it is considered optimal.\n",
        "\n",
        "\n",
        "\n",
        "## **Steps of Goal Programming.**\n",
        "\n",
        "Goal programming is used to perform three types of analysis:\n",
        "1. Determine the required resources to achieve a desired set of objectives.\n",
        "2. Determine the degree of attainment of the goals with the available resources.\n",
        "3. Providing the best satisfying solution under a varying number of resources and priorities of\n",
        "the goals."
      ]
    },
    {
      "cell_type": "markdown",
      "metadata": {
        "id": "rIUEoiT4bPk6"
      },
      "source": [
        "##**Why Goal Programming?**\n",
        "Goal Programming is used to solve problems in real life that have several objectives, for example if a healthcare company only focuses on providing top-quality healthcare the profit for the company might not be what they expected or if a publishing company spends too much time in making an error free book the release date might be pushed beyond the initial date, so focusing on only one objective can affect the goal that is important to an organization, Goal Programming can simultaneously take into account several objectives and provide an optimal solution which can help achieve the desired goal."
      ]
    },
    {
      "cell_type": "markdown",
      "metadata": {
        "id": "DVKCnmI8UBTG"
      },
      "source": [
        "## **History of Goal Programming.**\n",
        "\n",
        "\n",
        "\n",
        "The history of Goal Programming goes back to the years after the end of the 2nd world war when the industrial world was facing depression, though it wasn’t officially called Goal Programming then, industrialists were trying out various models which was successfully solving their problems and they soon learnt that this mathematical technique could be easily applied to solve industrial problems. Goal Programming was used to minimize the cost of production, increase the productivity, and use the available resources carefully and for healthy industrial growth. After that various model of Goal Programming were developed to solve industrial problems, so we can say that industries played an important role in the development of Goal Programming. Goal Programming was first used by Charnes, Cooper and Ferguson in 1955, but officially the name Goal Programming was mentioned in 1961 in a text by Charnes and Cooper.\n",
        "\n",
        "The first engineering application of Goal Programming was used for design and placement of the antennas on the second stage of the Saturn V rocket in 1962, which was used to launch the Apollo space capsule that landed the first men on the moon.\n"
      ]
    },
    {
      "cell_type": "markdown",
      "metadata": {
        "id": "5GgWvxZMYjTU"
      },
      "source": [
        "##**Difference between Goal Programming and Linear Programming**\n",
        "Goal Programming is a problem related programming which focuses on multicriteria decision making which implies more than one objective. Somewhat, it has similarities to Linear Programming and can also be solved using Simplex method, Python or Lingo. \n",
        "\n",
        "The difference is that while the Linear Programming works on an objective function to be optimized, subjects to absolute constraints, the Goal Programming operates on more objective functions with priorities, whose goals can be reached to a greater or lesser extent. For this reason, the GP model is more flexible than LP one, aiming at a satisfactory solution rather than optimizing (Sikha, 2018).A goal programming (GP) model deals with goals simultaneously that are of concern to a decision maker. While a Linear Programming model consists of constraints and a single objective function to be maximized or minimized (Nesticò,2020).\n",
        ". For ex: We have a problem where in linear programming our solution would have been: minimize cost but in Goal Programming we can have two(conflicting) objectives such as: minimize cost and do not produce excess one or maybe three(conflicting) objectives.\n",
        "\n"
      ]
    },
    {
      "cell_type": "markdown",
      "metadata": {
        "id": "DGC5WaH4Y98C"
      },
      "source": [
        "## **Problems/Solutions**\n",
        "**Following are few solved problems regarding Goal Programming.**\n"
      ]
    },
    {
      "cell_type": "markdown",
      "metadata": {
        "id": "EjhJMZN3qlsc"
      },
      "source": [
        "**1)** Suppose a company is considering three forms of advertising: Television($X_1$), Radio($X_2$), and internet ($X_3$). Each television spot costs \\$3000 to run and reaches 1,000 new potential customers; each radio spot costs \\$800 to run and reaches 500 new customers; and each internet ad costs \\$250 to run and reaches 200 new customers.\n",
        "Let’s say the company has three goals (not a single like LP)\n",
        "\n",
        "\n",
        "*   Goal 1: Spend no more than $25,000 on advertising.\n",
        "\n",
        "\n",
        "*   Goal 2: Reach at least 30,000 new potential customers.\n",
        "\n",
        "\n",
        "* Goal 3: Run at least 10 television spots"
      ]
    },
    {
      "cell_type": "markdown",
      "metadata": {
        "id": "KR_uQi3QERdc"
      },
      "source": [
        "\n",
        "\n",
        "##Solution:\n",
        "\n",
        "We can make constraints for the following conditions:\n",
        "\n",
        "\n",
        "\n",
        " \n",
        "*   **$3000X_1 + 800X_2 + 250X_3 \\leq 25000$----(i)**\n",
        "*  **$1000X_1 + 500X_2 + 200X_3 \\leq 30000$ ----(ii)**\n",
        "*   **$X_1 \\leq 10$ ------(iii)**\n",
        " \n",
        " If we look at equation (iii), it contradicts with equation (i) and the problem will be unsolvable . So, the problem couldn't be solved through this approach. That's why we have to use Goal Programming for this problem. So, we will suppose new variables for further :\n",
        "\n",
        " **$U_i$ = the amount by which L.H.S falls short of its R.H.S Value.**\n",
        " \n",
        " **$E_i$ = the amount by which L.H.S exceeds its R.H.S value.**\n",
        "  \n",
        "  So, now we can write our equations as:\n",
        "\n",
        "*   **$3000X_1 + 800X_2 + 250X_3 + U_1 - E_1 = 25000$----(i)**\n",
        "*   **$1000X_1 + 500X_2 + 200X_3 + U_2 - E_2 = 30000$ ----(ii) **  \n",
        "*   **$X_1 + U_3 - E_3 = 10$ ------(iii)**\n",
        "*  ** $X_1,X_2,X_3,U_1,U_2,U_3,E_1,E_2,E_3 >= 0$ **\n",
        "\n",
        "Now we will arrange it in matrix form for our our python using simplex:\n",
        "\n",
        "$$\n",
        "\\left[\\begin{array}{ccccccccc|c}\n",
        " 3000 &  800 & 250 & 1 & -1 & 0 & 0 & 0 & 0 &       25000\\\\\n",
        "   1000 &  500 & 200 & 0 &  0 & 1 &-1 & 0& 0 &       30000\\\\ \n",
        "   1   &    0&    0&    0 &  0  & 0 &  0 & 1 &-1&   10 \n",
        "   \\end{array}\n",
        "   \\right]\n",
        "   $$\n",
        " \n",
        " But this will not be enough , we will need a new objective so:\n",
        "\n",
        "Let’s suppose management determines that each extra dollar spent on advertising above \\\\$25,000 costs the company \\\\$1 and that the company suffers a loss of \\$5 for each potential customers not reached below the goal of \\\\$30,000 and each television spot below 10 is worth 100 times each dollar over the budget. i.e\n",
        "\n",
        "\n",
        "*   Goal 4: **Minimize** **$E_1 + 5U_2 + 100U_3$**\n",
        "\n",
        "Now, we got our variables and our goal, so we will use python to find out the best value for our problem:\n",
        "\n",
        "\n",
        "\n",
        "\n",
        "\n",
        "\n",
        "\n",
        "\n",
        "\n",
        "\n",
        "\n",
        "\n",
        "\n",
        "\n",
        "\n",
        "\n",
        "\n"
      ]
    },
    {
      "cell_type": "code",
      "metadata": {
        "id": "mbMCC1ZMZAHk"
      },
      "source": [
        "\n",
        "import numpy as np  #import numpy as np package for array\n",
        "\n",
        "from scipy.optimize import linprog  #import linprog from scipy.optimize for linear solving\n",
        "\n"
      ],
      "execution_count": null,
      "outputs": []
    },
    {
      "cell_type": "code",
      "metadata": {
        "id": "2dFWHQGOrFoj"
      },
      "source": [
        "Minimize = [0,0,0,0,1,5,0,100,0]  ##Array listed as [X1,X2,X3,U1,E1,U2,E2,U3,E3]\n",
        "                             ## objective[Minimize=E1+5U2+100E3]\n",
        "\n",
        "Points = [[3000,800,250,1,-1,0,0,0,0], # Left hand values of matrix respectively represented in arrays.\n",
        "          [1000,500,200,0,0,1,-1,0,0],\n",
        "          [1,0,0,0,0,0,0,1,-1]]\n",
        "Value =[25000,                           #R.H.S values listed respectively in arrays.\n",
        "         30000,      \n",
        "         10]         "
      ],
      "execution_count": null,
      "outputs": []
    },
    {
      "cell_type": "code",
      "metadata": {
        "id": "CqXBIBgY0jKe"
      },
      "source": [
        "Limit = [(0,float(\"inf\")),    # Bound the variables X1, X2, X3, U1 , E1, U2, E2, U3, E3 >= 0\n",
        "       (0,float(\"inf\")),\n",
        "       (0,float(\"inf\")),\n",
        "       (0,float(\"inf\")),\n",
        "       (0,float(\"inf\")),\n",
        "       (0,float(\"inf\")),\n",
        "       (0,float(\"inf\")),\n",
        "       (0,float(\"inf\")),\n",
        "       (0,float(\"inf\"))]"
      ],
      "execution_count": null,
      "outputs": []
    },
    {
      "cell_type": "code",
      "metadata": {
        "id": "IbmSi8dx1Fhf"
      },
      "source": [
        "opt = linprog (c=Minimize,\n",
        "              A_eq=Points, b_eq=Value, bounds=Limit,\n",
        "               method=\"revised simplex\")\n"
      ],
      "execution_count": null,
      "outputs": []
    },
    {
      "cell_type": "code",
      "metadata": {
        "colab": {
          "base_uri": "https://localhost:8080/"
        },
        "id": "bOFdB5b5QI6v",
        "outputId": "cabab43c-0ed7-41b1-f224-e11429a2f870"
      },
      "source": [
        "np.round(opt.x,decimals=3)  # Best solution for variables."
      ],
      "execution_count": null,
      "outputs": [
        {
          "output_type": "execute_result",
          "data": {
            "text/plain": [
              "array([0.00e+00, 0.00e+00, 1.50e+02, 0.00e+00, 1.25e+04, 0.00e+00,\n",
              "       0.00e+00, 1.00e+01, 0.00e+00])"
            ]
          },
          "metadata": {},
          "execution_count": 65
        }
      ]
    },
    {
      "cell_type": "code",
      "metadata": {
        "id": "VmaT1M784bEl",
        "colab": {
          "base_uri": "https://localhost:8080/"
        },
        "outputId": "619b482b-1868-4828-9d03-d2f42e24e446"
      },
      "source": [
        "np.round(opt.fun,decimals=3)  # Best Solution for minimize function"
      ],
      "execution_count": null,
      "outputs": [
        {
          "output_type": "execute_result",
          "data": {
            "text/plain": [
              "13500.0"
            ]
          },
          "metadata": {},
          "execution_count": 66
        }
      ]
    },
    {
      "cell_type": "markdown",
      "metadata": {
        "id": "3LNLkQ6OTu-3"
      },
      "source": [
        "**So,if the manufacturer gets 150 internet spots, \\$12,500 dollars over the budget for television spots and 10 less television spots, they will have to spend the minimum amount of \\$13,500 over budget to reach their desired goal.**"
      ]
    },
    {
      "cell_type": "markdown",
      "metadata": {
        "id": "a1m9z3f22Jol"
      },
      "source": [
        "#**2)**\n",
        "The Two Mines Company own two different mines that produce an ore which, after being crushed, is graded into three classes: high, medium and low-grade. The company has contracted to provide a smelting plant with 12 tons of high-grade, 8 tons of medium-grade and 24 tons of low-grade ore per week. The two mines have different operating characteristics as detailed below. \n",
        "\n",
        "Mine X cost \\$180 per day to produce 6 , 3, 4 tons/day of High, Medium and low ores respectively.\n",
        "Mine Y costs \\$160 per day to produce 1, 1, 6 tons/day of High,Medium and Low ores respectively.\n",
        "\n",
        "How many Days per week should each mine be operated to fulfill the smelting plant contract?\n",
        "\n",
        "Now, if we go through linear programming , our solutions will produce 13.14 tonnes of high-grade per week, while our contract is only for 12 tonnes. So, we will have to deal with the excess. That's where we will have two (conflicting) objectives, and hence a path for goal programming. \n",
        "\n",
        "Now, as our objective changes,we have following goals:\n",
        "\n",
        "**Goal 1: Minimise cost**\n",
        "\n",
        "**Goal 2: do not produce excess ore.**\n",
        "\n"
      ]
    },
    {
      "cell_type": "markdown",
      "metadata": {
        "id": "NKjY-dlC4xp0"
      },
      "source": [
        "##**Solution**:"
      ]
    },
    {
      "cell_type": "markdown",
      "metadata": {
        "id": "iR81CjXn47VE"
      },
      "source": [
        "We have two objectives:    \n",
        "**Goal 1: minimise cost**\n",
        "\n",
        "**Goal 2: Do not produce excess ore**\n",
        "\n",
        "Now, we have following constraints:     \n",
        "$$ 6x + y \\geq 12$$\n",
        "$$3x + y \\geq 8$$\n",
        "$$ 4x + 6y \\geq 24$$\n",
        "$$ x \\leq 5$$\n",
        "$$y \\leq 5$$\n",
        "$$ x,y \\geq 0$$\n",
        "$$180x + 160y \\leq 800$$\n",
        "But, These constraints will not be enough to continue:          \n",
        "We will suppose two variables which will lead to our budget/production/quantity over or under .\n",
        "\n",
        "$U_i$= Downward deviation\n",
        "\n",
        "$E_i$= Upward deviation\n",
        "\n",
        "Our new equations will be:  \n",
        "$$180x+160y + U_1 - E_1 = 800$$ \n",
        "\n",
        "$$6x + y + U_2 - E_2 = 12$$\n",
        "\n",
        "$$3x+y+U_3-E_3=8$$\n",
        "\n",
        "$$4x+6y+U_4 - E_4 = 24$$\n",
        "\n",
        "The management has decided to weight the variables and provide us with a new objective.\n",
        "i.e  \n",
        "**Minimise**:     \n",
        "$$3.125E_1 - 2.5U_1 + 333.333E_2 + 125E_3+12.5E_4$$\n",
        "\n",
        "We have,\n",
        "$$x\\leq 5$$\n",
        "$$y\\leq5$$\n",
        "$$x,y,U_i,E_i\\geq0$$\n",
        "\n",
        "Now, having all this information, we can solve our problem using python:"
      ]
    },
    {
      "cell_type": "code",
      "metadata": {
        "id": "P4-aQAsb-etT"
      },
      "source": [
        ""
      ],
      "execution_count": null,
      "outputs": []
    },
    {
      "cell_type": "code",
      "metadata": {
        "id": "rpusV2R--gEf"
      },
      "source": [
        ""
      ],
      "execution_count": null,
      "outputs": []
    },
    {
      "cell_type": "code",
      "metadata": {
        "id": "CrZguyxu-f2o"
      },
      "source": [
        ""
      ],
      "execution_count": null,
      "outputs": []
    },
    {
      "cell_type": "code",
      "metadata": {
        "id": "zKm2LNek-foA"
      },
      "source": [
        ""
      ],
      "execution_count": null,
      "outputs": []
    },
    {
      "cell_type": "code",
      "metadata": {
        "id": "ZhifNY7k-fU0"
      },
      "source": [
        ""
      ],
      "execution_count": null,
      "outputs": []
    },
    {
      "cell_type": "markdown",
      "metadata": {
        "id": "qPPn9_hbBlHV"
      },
      "source": [
        "\n",
        "\n",
        "The previous problems we solved was solved using non-preemptive method. The following problem will be solved using Preemptive method, which has slightly different approach and divide its problems into priority level. Through which, Priority 1 is the major goal or priority while others descend as their respective priority numbers."
      ]
    },
    {
      "cell_type": "markdown",
      "metadata": {
        "id": "kZK6RngNowBm"
      },
      "source": [
        "**3)**\n",
        "\n",
        "   A Cycle Company is planning next month’s production of its two bicycles: its B2 tandem bicycle built for two and its S10 single-rider 10-speed model. Both models use the same seats and tires. Management has been informed that 2000 seats,1000 gear assemblies (only the S10 requires a gear assembly), and 2400 tires are available next month for production. On the average, it takes two hours to produce a B2 and three hours to produce a S10 bicycle. The accounting department estimates that each B2 yields a profit of \\\\$40 and each S10 yields a profit of \\$100. \n",
        "Management has set the following prioritized goals:\n",
        "\n",
        "**Priority 1: Fulfill a contract for 400 B2 bicycle that is promised to deliver to vendors in Ocean City, Maryland, next month.**\n",
        "\n",
        "**Priority 2: Produce at least 1000 total bicycles during the month.**\n",
        "\n",
        "**Priority 3:\n",
        "(1)\tAchieve at least \\$100,000 profit for the month\n",
        "(2)\tUse no more than 1600 labor-hours during the month.**\n",
        "\n",
        "**Each \\\\$1000 short of the \\$100,000 goal is considered 30 times as important as utilizing an extra labor-hour.**\n",
        "\n",
        "**Priority 4: The company is developing a new cycle, so it would like to have:\n",
        "(1)\tAt least 200 tires left over at the end of the month.\n",
        "(2)\tAt least 100 gear assemblies left over at the end of the month.**\n",
        "\n",
        "**Each leftover gear assembly is deemed twice as important as a leftover tire.\n",
        "Management wants to determine the production schedule that best meets its prioritized objectives.**"
      ]
    },
    {
      "cell_type": "markdown",
      "metadata": {
        "id": "iuQ_ki9mo7wh"
      },
      "source": [
        "##**Solution:**"
      ]
    },
    {
      "cell_type": "markdown",
      "metadata": {
        "id": "SK4ezk5B7mt4"
      },
      "source": [
        "\n",
        "\n",
        "\n",
        "\n",
        "\n",
        "\n",
        "Management at the following Cycle Company wishes to:\n",
        "\n",
        "•\tDetermine next month’s production quantities of B2 and S10 bicycles.\n",
        "\n",
        "•\tAvoid exceeding expected availabilities of seats, gear assemblies, and tires.\n",
        "\n",
        "•\tCome as close as possible to meeting its priority 1 goal first (production of 400 B2 cycles).\n",
        "\n",
        "•\tMeet its priority 2 goal (Production of 1000 cycles total) as closely as possible without disturbing the optimal level of its priority 1 goal.\n",
        "\n",
        "•\tMeet as closely as possible its priority 3 goals ($100,000 in profit, utilization of no more than 1600 man-hours) without disturbing the optimal levels of its priority 1 and 2 goals.\n",
        "\n",
        "•\tMeet as closely as possible its priority 4 goals (200 leftover tires and 100 leftover gear assemblies) in a ratio of 1:2 without disturbing the optimal levels of its priority 1,2 and 3 goals.\n",
        "\n",
        "##**Decision Variables/Functional Constraints:**\n",
        "\n",
        "The decision variables for this model are:\n",
        "\n",
        "**X1: the number of B2s to be produced next month**\n",
        "\n",
        "**X2: the number of S10s to be produced next month**\n",
        "\n",
        "**Functional / nonnegativity constraints**\n",
        "\n",
        "**The functional constraints are:**\n",
        "\n",
        "$$2X_1 + X_2 \\leq 2000 Seats$$\n",
        "\n",
        "$$X_2 \\leq 1000 Gear Assemblies$$\n",
        "\n",
        "$$2X_1 + 2X_2 \\leq 2400 Tires$$\n",
        "\n",
        "$$X_1, X_2 \\geq 0 Nonnegativity$$\n",
        "\n",
        "##**Goal Equations**\n",
        "\n",
        "The goal equations for the four priority levels are:\n",
        "\n",
        "**Priority 1: (Goal 1) Production of at least 400 B2 cycles:**\n",
        "\n",
        "$$X_1 + U_1 – E_1 = 400$$\n",
        "\n",
        "**Priority 2: (Goal 2) Production of at least 1000 total cycles:**\n",
        "\n",
        "$$X_1 + X_2 + U_2 – E_2 = 1000$$\n",
        "\n",
        "**Priority 3: (Goal 3) Profit of at least $100,000:**\n",
        "\n",
        "$$0.04X_1 +0.10X_2 + U_3 - E_3 =100$$\n",
        "\n",
        "**(Goal 4):Use a maximum of 1600 labor-hours:**\n",
        "\n",
        "$$2X_1 + 3X_2 + U_4 - E_4 = 1600$$\n",
        "          \n",
        "              \n",
        "**Priority 4: (Goal 5) Hence, at least 200 leftover tires (this is equivalent to using no more than 2200 tires):**\n",
        "\n",
        "$$2X_1 + 2X_2 + U_5 – E_5 = 2200$$\n",
        "\n",
        "**(Goal 6): Hence at least 100 leftover gear assemblies (this is equivalent to using no more than 900 gear assemblies):**\n",
        "\n",
        " $$X_2 + U_6 – E_6 = 900$$\n",
        "\n",
        "##**Priority level objectives:**\n",
        "\n",
        "The detrimental deviations, respectively are:\n",
        "\n",
        "**Priority 1: Underachieving 400 B2s (U1)**\n",
        "\n",
        "**Priority 2: Underachieving a 1000 production level (U2)**\n",
        "\n",
        "**Priority 3: Underachieving a $100,000 profit (U3)**\n",
        "**Using more than 1600 labor-hours (E4)**\n",
        "\n",
        "**Priority 4: Using more than 2200 tires (E5)\n",
        "Using more than 900 gear assemblies (E6)**\n",
        "\n",
        "Thus, the corresponding priority objectives are:\n",
        "\n",
        "**Priority 1: Minimize $$V_1 = U_1$$**\n",
        "\n",
        "**Priority 2: Minimize $$V_2 = U_2$$**\n",
        "\n",
        "**Priority 3: Minimize $$V_3 = 30U_3 + E_4$$**\n",
        "\n",
        "**Priority 4: Minimize $$V_4 = E_5 + 2E_6$$**\n",
        "\n"
      ]
    },
    {
      "cell_type": "markdown",
      "metadata": {
        "id": "g1J0lT6zobqa"
      },
      "source": [
        "**Now,  that we have our constraints, goals and priorities, we can use python to get an optimal solution for our problem.**"
      ]
    },
    {
      "cell_type": "code",
      "metadata": {
        "id": "UnxEEjc0Jv9w"
      },
      "source": [
        "import numpy as np  #import numpy as np package for array\n",
        "\n",
        "from scipy.optimize import linprog  #import linprog from scipy.optimize for linear solving\n",
        "\n"
      ],
      "execution_count": null,
      "outputs": []
    },
    {
      "cell_type": "code",
      "metadata": {
        "id": "4MA0BdKcJvx4"
      },
      "source": [
        "Minimize1 = [0,0,1,0]  ##Array listed as [X1,X2,U1,U2]\n",
        "                             ## objective[Priority 1 Minimize=(V1 = U1)]\n",
        "Point1ub = [[2,1,0,0],  ##L.H.S of functional constraints.\n",
        "           [0,1,0,0],\n",
        "            [2,2,0,0]]\n",
        "\n",
        "Value1ub = [[2000],         #R.H.S of functional constraints.\n",
        "               [1000],\n",
        "               [2400]]           \n",
        "Point1 = [1,0,1,-1], # Left hand values of [Goal 1 : X1 + U1 - E1]\n",
        "         \n",
        "Value1 = [400]                         #R.H.S value of Goal 1.  "
      ],
      "execution_count": null,
      "outputs": []
    },
    {
      "cell_type": "code",
      "metadata": {
        "id": "vmbgPyggJvVP"
      },
      "source": [
        "opt = linprog(c=Minimize1, A_ub=Point1ub, b_ub=Value1ub, A_eq=Point1, b_eq=Value1, bounds=None, method=\"revised simplex\") #Code for performing simplex method on following constraints.\n"
      ],
      "execution_count": null,
      "outputs": []
    },
    {
      "cell_type": "code",
      "metadata": {
        "colab": {
          "base_uri": "https://localhost:8080/"
        },
        "id": "ZImaBWQzLAoT",
        "outputId": "de28e001-f197-4d47-d32f-85b639c0adab"
      },
      "source": [
        "np.round(opt.x,decimals=3) #optimal value for (X1,X2,U2,E2)."
      ],
      "execution_count": null,
      "outputs": [
        {
          "output_type": "execute_result",
          "data": {
            "text/plain": [
              "array([400.,   0.,   0.,   0.])"
            ]
          },
          "metadata": {},
          "execution_count": 153
        }
      ]
    },
    {
      "cell_type": "code",
      "metadata": {
        "colab": {
          "base_uri": "https://localhost:8080/"
        },
        "id": "aMmuF0DVLALG",
        "outputId": "597cbc46-7520-42b5-fc69-20ecb389903c"
      },
      "source": [
        "np.round(opt.fun,decimals=3) #Value of V1."
      ],
      "execution_count": null,
      "outputs": [
        {
          "output_type": "execute_result",
          "data": {
            "text/plain": [
              "0.0"
            ]
          },
          "metadata": {},
          "execution_count": 154
        }
      ]
    },
    {
      "cell_type": "code",
      "metadata": {
        "id": "aoLA2Lx4LZ8L"
      },
      "source": [
        "Minimize2 = [0,0,0,0,1,0]  ##Array listed as [X1,X2,U1,E2,U2,E2]\n",
        "                             ## objective[Priority 2: Minimize (V2 = U2)]\n",
        "Point2ub = [[2,1,0,0,0,0],  #L.H.S of functional constraints\n",
        "          [0,1,0,0,0,0],\n",
        "          [2,2,0,0,0,0]]\n",
        "Value2ub = [[2000],      #R.H.S of functional constraints.\n",
        "          [1000],\n",
        "          [2400]]            #Since we have to put priority 1 at best to find the best solution for priority 2.\n",
        "Point2 = [[1,0,1,-1,0,0],   #L.H.S of Goal 1: X1 + U1 - E1\n",
        "          [1,1,0,0,1,-1],      #L.H.S of Goal 2: X1 + X2 + U2 - E2\n",
        "          [0,0,1,0,0,0]]       #L.H.S of Priority 1: (V1=U1)\n",
        "        \n",
        "         \n",
        "Value2 = [400,            #R.H.S of Respectively values.\n",
        "          1000,\n",
        "          0]    "
      ],
      "execution_count": null,
      "outputs": []
    },
    {
      "cell_type": "code",
      "metadata": {
        "id": "bz0sQ-qAP8Xd"
      },
      "source": [
        "opt = linprog(c=Minimize2, A_ub=Point2ub, b_ub=Value2ub, A_eq=Point2, b_eq=Value2, bounds=None , method=\"revised simplex\") #Code for performing simplex method on following constraints."
      ],
      "execution_count": null,
      "outputs": []
    },
    {
      "cell_type": "code",
      "metadata": {
        "colab": {
          "base_uri": "https://localhost:8080/"
        },
        "id": "jNTPXlKAQDmG",
        "outputId": "03fc3e6b-2df3-4387-adc1-8836f1329708"
      },
      "source": [
        "np.round(opt.x,decimals=3)  #Optimal values of (X1,X2,U1,E1,U2,E2)"
      ],
      "execution_count": null,
      "outputs": [
        {
          "output_type": "execute_result",
          "data": {
            "text/plain": [
              "array([400., 600.,   0.,   0.,   0.,   0.])"
            ]
          },
          "metadata": {},
          "execution_count": 184
        }
      ]
    },
    {
      "cell_type": "code",
      "metadata": {
        "colab": {
          "base_uri": "https://localhost:8080/"
        },
        "id": "L-HbyhYwQKuF",
        "outputId": "028d31bb-04d7-44b5-b517-52b01a808605"
      },
      "source": [
        "np.round(opt.fun,decimals=3) #Value for V2."
      ],
      "execution_count": null,
      "outputs": [
        {
          "output_type": "execute_result",
          "data": {
            "text/plain": [
              "0.0"
            ]
          },
          "metadata": {},
          "execution_count": 185
        }
      ]
    },
    {
      "cell_type": "code",
      "metadata": {
        "id": "9nh-LTSkUtNf"
      },
      "source": [
        "Minimize3 = [0,0,0,0,0,0,30,0,0,1]  ##Array listed as [X1,X2,U1,E1,U2,E2,U3,E3,U4,E4]\n",
        "                             ## objective[Priority 3: Minimize=(V3 = 30U3 + E4)]\n",
        "\n",
        "Point3ub = [[2,1,0,0,0,0,0,0,0,0], #L.H.S of functional constraints.\n",
        "          [0,1,0,0,0,0,0,0,0,0],\n",
        "          [2,2,0,0,0,0,0,0,0,0]]\n",
        "\n",
        "Value3ub = [[2000],                  #R.H.S of functional constraints.\n",
        "          [1000],\n",
        "          [2400]]\n",
        "                                         #Since we have to put priority 1 and priority 2 at best to find the best solution for priority 3.\n",
        "Point3 = [[1,0,1,-1,0,0,0,0,0,0],       #L.H.S of Goal 1: X1 + U1 - E1\n",
        "          [1,1,0,0,1,-1,0,0,0,0],        #L.H.S of Goal 2: X1 + X2 + U2 - E2 \n",
        "          [0.04,0.10,0,0,0,0,1,-1,0,0],   #L.H.S of Goal 3: 0.04X1 + 0.10X2 + U3 - E3\n",
        "          [2,3,0,0,0,0,0,0,1,-1],          #L.H.S of Goal 4: 2X1 + 3X2 + U4 - E4\n",
        "          [0,0,1,0,0,0,0,0,0,0],          #L.H.S of Priority 1: (U1)\n",
        "          [0,0,0,0,1,0,0,0,0,0]           #L.H.S of Priority 2: (U2)\n",
        "          ]\n",
        "          \n",
        "         \n",
        "Value3 = [400,\n",
        "          1000,\n",
        "          100,             #R.H.S of respective goals and priorities.\n",
        "          1600,\n",
        "          0,\n",
        "          0]  "
      ],
      "execution_count": null,
      "outputs": []
    },
    {
      "cell_type": "code",
      "metadata": {
        "id": "8uVi7XtuXRCV"
      },
      "source": [
        "opt = linprog(c=Minimize3, A_ub=Point3ub, b_ub=Value3ub, A_eq=Point3, b_eq=Value3, bounds=None , method=\"revised simplex\") #Code for performing simplex method on following constraints."
      ],
      "execution_count": null,
      "outputs": []
    },
    {
      "cell_type": "code",
      "metadata": {
        "colab": {
          "base_uri": "https://localhost:8080/"
        },
        "id": "TkPBpzMtXkqF",
        "outputId": "d70df79a-d1ca-43ba-8b11-84e3efc8983e"
      },
      "source": [
        "np.round(opt.x,decimals=3) #Value for [X1,X2,U1,E1,U2,E2,U3,E3,U4,E4]"
      ],
      "execution_count": null,
      "outputs": [
        {
          "output_type": "execute_result",
          "data": {
            "text/plain": [
              "array([  0.   , 533.333, 400.   ,   0.   , 466.667,   0.   ,  46.667,\n",
              "         0.   ,   0.   ,   0.   ])"
            ]
          },
          "metadata": {},
          "execution_count": 187
        }
      ]
    },
    {
      "cell_type": "code",
      "metadata": {
        "colab": {
          "base_uri": "https://localhost:8080/"
        },
        "id": "iJc9Mn5_U5r6",
        "outputId": "41e47180-5d99-4c51-d892-af8075bb7d9b"
      },
      "source": [
        "np.round(opt.fun,decimals=3) #value for V3."
      ],
      "execution_count": null,
      "outputs": [
        {
          "output_type": "execute_result",
          "data": {
            "text/plain": [
              "1400.0"
            ]
          },
          "metadata": {},
          "execution_count": 188
        }
      ]
    },
    {
      "cell_type": "code",
      "metadata": {
        "id": "BsqDXAOlYPlM"
      },
      "source": [
        "Minimize4 = [0,0,0,0,0,0,0,0,0,0,0,1,0,2]  ##Array listed as [X1,X2,U1,E1,U2,E2,U3,E3,U4,E4,U5,E5,U6,E6]\n",
        "                             ## objective[Priority 4:Minimize(V4 = E5 + 2E6 ]\n",
        "Point4ub = [[2,1,0,0,0,0,0,0,0,0,0,0,0,0],  #L.H.S of functional constraints.\n",
        "          [0,1,0,0,0,0,0,0,0,0,0,0,0,0],\n",
        "          [2,2,0,0,0,0,0,0,0,0,0,0,0,0]]\n",
        "Value4ub = [[2000],                          #R.H.S of functional constraints.\n",
        "          [1000],\n",
        "          [2400]]\n",
        "                                               #Since we have to put priority 1,2 and 3 at best to find the best solution for priority 4.\n",
        "Point4 = [[1,0,1,-1,0,0,0,0,0,0,0,0,0,0],      #L.H.S of Goal 1: X1 + U1 - E1\n",
        "          [1,1,0,0,1,-1,0,0,0,0,0,0,0,0],      #L.H.S of Goal 2: X1 + X2 + U2 - E2\n",
        "          [0.04,0.10,0,0,0,0,1,-1,0,0,0,0,0,0],  #L.H.S of Goal 3: 0.04X1 + 0.10X2 + U3 - E3\n",
        "          [2,3,0,0,0,0,0,0,1,-1,0,0,0,0],         #L.H.S of Goal 4: 2X1 + 3X2 + U4 - E4\n",
        "          [2,2,0,0,0,0,0,0,0,0,1,-1,0,0],         #L.H.S of Goal 5: 2X1 + 2X2 + U5 - E5\n",
        "          [0,1,0,0,0,0,0,0,0,0,0,0,1,-1],          #L.H.S of Goal 6: X2 + U6 - E6\n",
        "          [0,0,1,0,0,0,0,0,0,0,0,0,0,0],          #L.H.S of Priority 1: (U1) \n",
        "          [0,0,0,0,1,0,0,0,0,0,0,0,0,0],           #L.H.S of Priority 2: (U2)\n",
        "          [0,0,0,0,0,0,30,0,0,1,0,0,0,0]]          #L.H.S of Priority 3: (30U3 + E4)\n",
        "          # Left hand values of matrix respectively represented in arrays.\n",
        "         \n",
        "Value4 = [400,\n",
        "          1000,\n",
        "          100,\n",
        "          1600,\n",
        "          2200,\n",
        "          900,            ##R.H.S of respective goals and priorities.\n",
        "          0,\n",
        "          0,\n",
        "          1400]  "
      ],
      "execution_count": null,
      "outputs": []
    },
    {
      "cell_type": "code",
      "metadata": {
        "id": "zoCSy-HXYPZw"
      },
      "source": [
        "opt = linprog(c=Minimize4, A_ub=Point4ub, b_ub=Value4ub, A_eq=Point4, b_eq=Value4, bounds=None , method=\"revised simplex\") ##Code for performing simplex method on following constraints."
      ],
      "execution_count": null,
      "outputs": []
    },
    {
      "cell_type": "code",
      "metadata": {
        "colab": {
          "base_uri": "https://localhost:8080/"
        },
        "id": "NcImYPW5YOtd",
        "outputId": "0e7463ee-361b-4cd6-8707-eb1e60f7d083"
      },
      "source": [
        "np.round(opt.x,decimals=3) #Value for [X1,X2,U1,E1,U2,E2,U3,E3,U4,E4,U5,E5,U6,E6]"
      ],
      "execution_count": null,
      "outputs": [
        {
          "output_type": "execute_result",
          "data": {
            "text/plain": [
              "array([ 400.   ,  600.   ,    0.   ,    0.   ,    0.   ,    0.   ,\n",
              "         13.333,    0.   ,    0.   , 1000.   ,  200.   ,    0.   ,\n",
              "        300.   ,    0.   ])"
            ]
          },
          "metadata": {},
          "execution_count": 193
        }
      ]
    },
    {
      "cell_type": "code",
      "metadata": {
        "colab": {
          "base_uri": "https://localhost:8080/"
        },
        "id": "k7f7Gl6yYOeB",
        "outputId": "4fcbb9a8-04d7-463e-c645-305d01b18938"
      },
      "source": [
        "np.round(opt.fun,decimals=3) #Value of V4."
      ],
      "execution_count": null,
      "outputs": [
        {
          "output_type": "execute_result",
          "data": {
            "text/plain": [
              "0.0"
            ]
          },
          "metadata": {},
          "execution_count": 194
        }
      ]
    },
    {
      "cell_type": "markdown",
      "metadata": {
        "id": "H_H7_MOWgtbC"
      },
      "source": [
        "**So,for the optimal solution of budget overload remaining zero, the number of 400 Model B2 bicycles and 600 Model S10 bicycles should be manufactured.**"
      ]
    },
    {
      "cell_type": "markdown",
      "metadata": {
        "id": "g4UmwkpEpXSW"
      },
      "source": [
        "##**Solve the Following problems:**"
      ]
    },
    {
      "cell_type": "markdown",
      "metadata": {
        "id": "ayRLyGVHWVe5"
      },
      "source": [
        "**Problem 1:**\n",
        "\n",
        "Suppose a company is considering manufacturing three forms of products: Television$(X_1)$, Radio$(X_2)$, and Tablets$(X_3)$. Each television manufacturing costs \\$300 to run and sells to 10,000 new potential customers each week; each radio manufacturing costs \\$80 to run and sells to 5,000 new customers; and each tablet manufacturing costs \\$100 to run and sells to 2,000 new customers. The company has three goals:\n",
        "\n",
        "\n",
        "•**Goal 1: Spend no more than $20,000 on manufacturing.**\n",
        "\n",
        "•\t**Goal 2: Reach at least 35,000 new potential customers.**\n",
        "\n",
        "• **Goal 3: Sell at least 100 televisions.**\n",
        "\n",
        "\n",
        "\n",
        "\n"
      ]
    },
    {
      "cell_type": "markdown",
      "metadata": {
        "id": "f-eJYAGlr4a7"
      },
      "source": [
        "**Problem 2:**\n",
        "\n",
        "The New England Cycle Company is planning next month’s production of its two bicycles: its Q2 tandem bicycle built for two and its A10 single-rider 10-speed model. Both models use the same seats and tires. Management has been informed that 1000 seats,500 gear assemblies (only the A10 requires a gear assembly), and 1200 tires are available next month for production. On the average, it takes two hours to produce a Q2 and three hours to produce a A10 bicycle. The accounting department estimates that each Q2 yields a profit of \\\\$20 and each A10 yields a profit of \\$50. \n",
        "\n",
        "Management has set the following prioritized goals:\n",
        "\n",
        "Priority 1: Fulfill a contract for 200 Q2 bicycle that is promised to deliver to vendors in Ocean City, Maryland, next month.\n",
        "\n",
        "Priority 2: Produce at least 5000 total bicycles during the month.\n",
        "\n",
        "Priority 3:\n",
        "(1)\tAchieve at least \\$50,000 profit for the month.\n",
        "\n",
        "(2)\tUse no more than 1600 labor-hours during the month.\n",
        "\n",
        "Each $500 short of the \\$50,000 goal is considered 30 times as important as utilizing an extra labor-hour.\n",
        "\n",
        "Priority 4: The company is developing a new cycle, so it would like to have:\n",
        "(1)\tAt least 100 tires left over at the end of the month.\n",
        "\n",
        "(2)\tAt least 50 gear assemblies left over at the end of the month.\n",
        "\n",
        "Each leftover gear assembly is deemed twice as important as a leftover tire.\n",
        "Management wants to determine the production schedule that best meets its prioritized objectives.\n"
      ]
    },
    {
      "cell_type": "markdown",
      "metadata": {
        "id": "Y0M9NKdPs9T4"
      },
      "source": [
        ""
      ]
    },
    {
      "cell_type": "markdown",
      "metadata": {
        "id": "rQPni6c1s8GL"
      },
      "source": [
        ""
      ]
    },
    {
      "cell_type": "markdown",
      "metadata": {
        "id": "fb2uZl1q_LR_"
      },
      "source": [
        "## References\n",
        "\n",
        "•\tAntonio Nesticò, C. E. (2020). **An Economic Model for Selecting Urban-Scale Projects.** Springer, Cham.\n",
        "\n",
        "•\tJha, P. (n.d.). **Goal Programming.** Retrieved from \"http://du.ac.in/du/uploads/departments/Operational%20Research/25042020_Goal%20Programming.pdf\"\n",
        "\n",
        "•\tSikha, T. (2018). **Comparison between Goal Programming and other Linear Programming Methods.**\n",
        "\n",
        "•\t **Nonlinear Models:Dynamic ,Goal, and Linear Programming.** ”https://www.ams.jhu.edu/~castello/625.414/Handouts/GoalProg.pdf”\n",
        "\n",
        "•\tMirko Stojiljkovic. **Hands-On Linear Programming: Optimization With Python**;  \" https://realpython.com/linear-programming-pyth\"\n",
        "\n",
        "•\tDusseldorp, V. and Ralph, A., 1976. **Applications of Goal Programming to Education.** [ebook] Phoenix, AZ. Available at: “https://www.science.gov/topicpages/g/goal+programming+theoretical.html”\n",
        "\n",
        "•\tDan Dan, E. and Desmond .O., 2013. **GOAL PROGRAMMING: - An Application To Budgetary Allocation Of An Institution Of Higher Learning.** [ebook] Available at: https://www.researchgate.net \n",
        "\n"
      ]
    },
    {
      "cell_type": "markdown",
      "metadata": {
        "id": "C8i0wsUKijeP"
      },
      "source": [
        "### Authors"
      ]
    },
    {
      "cell_type": "markdown",
      "metadata": {
        "id": "rajid0PdipzE"
      },
      "source": [
        "Principal authors of this chapter were: \n",
        "[Arun Gyawali](https://github.com/arungyaw),[Khaji Butler](https://github.com/khajibutler),[Utshav Hamal](https://github.com/utsham)"
      ]
    }
  ]
}