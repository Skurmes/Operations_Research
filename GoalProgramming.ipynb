{
  "nbformat": 4,
  "nbformat_minor": 0,
  "metadata": {
    "colab": {
      "name": "Untitled30.ipynb",
      "provenance": [],
      "include_colab_link": true
    },
    "kernelspec": {
      "name": "python3",
      "display_name": "Python 3"
    },
    "language_info": {
      "name": "python"
    }
  },
  "cells": [
    {
      "cell_type": "markdown",
      "metadata": {
        "id": "view-in-github",
        "colab_type": "text"
      },
      "source": [
        "<a href=\"https://colab.research.google.com/github/arungyaw/Operations_Research/blob/main/GoalProgramming.ipynb\" target=\"_parent\"><img src=\"https://colab.research.google.com/assets/colab-badge.svg\" alt=\"Open In Colab\"/></a>"
      ]
    },
    {
      "cell_type": "markdown",
      "metadata": {
        "id": "i_4QVqdV96a6"
      },
      "source": [
        "# Goal Programming\n",
        "\n",
        "utsav arun khaji\n",
        "\n"
      ]
    },
    {
      "cell_type": "markdown",
      "metadata": {
        "id": "woaZjkArTMAh"
      },
      "source": [
        "## Introduction/Motivation\n",
        "\n",
        "\n",
        "\n",
        "\n"
      ]
    },
    {
      "cell_type": "markdown",
      "metadata": {
        "id": "n0AD_VXnYiKq"
      },
      "source": [
        "## What is Goal Programming?\n",
        "\n",
        "Goal Programming is a branch of multi-objective optimization and an extension to linear\n",
        "programming and is based under multi-criteria decision analysis (MCDA), known as multiple-\n",
        "criteria decision making (MCDM). This is an optimization programming to handle multiple,\n",
        "normally conflicting objective measures. Measures are given a goal or target value to be achieved.\n",
        "Unwanted deviations from this set of target values are then minimized in an achievement function.\n",
        "This can be a vector or a weighted sum dependent on the goal programming variant used.\n",
        "\n",
        "## Steps of Goal Programming?\n",
        "\n",
        "Goal programming is used to perform three types of analysis:\n",
        "1. Determine the required resources to achieve a desired set of objectives.\n",
        "2. Determine the degree of attainment of the goals with the available resources.\n",
        "3. Providing the best satisfying solution under a varying number of resources and priorities of\n",
        "the goals."
      ]
    },
    {
      "cell_type": "markdown",
      "metadata": {
        "id": "DVKCnmI8UBTG"
      },
      "source": [
        "## Theory"
      ]
    },
    {
      "cell_type": "markdown",
      "metadata": {
        "id": "5GgWvxZMYjTU"
      },
      "source": [
        "##Difference between Goal Programming and Linear Programming\n",
        "Goal Programming is a problem related programming which focuses on multicriteria decision making which implies more than one objective. Somewhat, it has similarities to Linear Programming and can also be solved using Simplex method, Python or Lingo. The difference is that while the Linear Programming works on an objective function to be optimized, subjects to absolute constraints, the Goal Programming operates on more objective functions with priorities, whose goals can be reached to a greater or lesser extent. For this reason, the GP model is more flexible than LP one, aiming at a satisfactory solution rather than optimizing (Sikha, 2018).A goal programming (GP) model deals with goals simultaneously that are of concern to a decision maker. While a Linear Programming model consists of constraints and a single objective function to be maximized or minimized (Nesticò,2020).\n",
        "\n"
      ]
    },
    {
      "cell_type": "markdown",
      "metadata": {
        "id": "gZAnmh5LlmwX"
      },
      "source": [
        "## Examples"
      ]
    },
    {
      "cell_type": "markdown",
      "metadata": {
        "id": "VXEn-1oj8CG_"
      },
      "source": [
        "### Example 1"
      ]
    },
    {
      "cell_type": "markdown",
      "metadata": {
        "id": "hbqQ17BOlqGN"
      },
      "source": [
        "\n",
        "\n"
      ]
    },
    {
      "cell_type": "markdown",
      "metadata": {
        "id": "xwx5JA688Gqu"
      },
      "source": [
        "### Example 2"
      ]
    },
    {
      "cell_type": "markdown",
      "metadata": {
        "id": "UCeUiE8j8Ngm"
      },
      "source": [
        ""
      ]
    },
    {
      "cell_type": "markdown",
      "metadata": {
        "id": "fb2uZl1q_LR_"
      },
      "source": [
        "## References\n",
        "\n",
        "*How to Solve It* **G. Polya** Second Edition Princeton University Press 1957\n",
        "\n",
        "*Thinking Mathematically* **J. Mason** Addison-Wesley Publishing Company 1985\n",
        "\n",
        "*Grit: The Power of Passion and Perseverance* **A. Duckworth** ‎ Scribner Book Company 2016\n",
        "\n"
      ]
    },
    {
      "cell_type": "markdown",
      "metadata": {
        "id": "DGC5WaH4Y98C"
      },
      "source": [
        "## Problems"
      ]
    },
    {
      "cell_type": "markdown",
      "metadata": {
        "id": "aFM8E4VSZA_p"
      },
      "source": [
        ""
      ]
    },
    {
      "cell_type": "code",
      "metadata": {
        "id": "mbMCC1ZMZAHk"
      },
      "source": [
        "\n",
        "import numpy as np  #import numpy as np package for array\n",
        "\n",
        "from scipy.optimize import linprog #import linprog from scipy.optimize for linear solving\n",
        "\n"
      ],
      "execution_count": null,
      "outputs": []
    },
    {
      "cell_type": "code",
      "metadata": {
        "id": "2dFWHQGOrFoj"
      },
      "source": [
        "Minimize = [0,0,0,0,1,5,0,100,0]  ##Array listed as [X1,X2,X3,U1,E1,U2,E2,U3,E3]\n",
        "                             ## objective[Minimize=E1+5U2+100E3]\n",
        "\n",
        "Points = [[3000,800,250,1,-1,0,0,0,0],  # Left hand side equalities 3000X1 + 800X2 +250X3+ U1 - E1 ,                                   \n",
        "          [1000,500,200,0,0,1,-1,0,0],  # 1000X1 + 500X2 + 200X3 + U2 - E2,\n",
        "          [1,0,0,0,0,0,0,1,-1]]         # X1 + U3 - E3  represented in arrays.\n",
        "Value =[25000,                         #R.H.S values listed respectively in arrays.\n",
        "         30000,\n",
        "         10]         "
      ],
      "execution_count": 119,
      "outputs": []
    },
    {
      "cell_type": "code",
      "metadata": {
        "id": "CqXBIBgY0jKe"
      },
      "source": [
        "Limit = [(0,float(\"inf\")), # Bound the variables X1, X2, X3, U1 , E1, U2, E2, U3, E3 >= 0\n",
        "       (0,float(\"inf\")),\n",
        "       (0,float(\"inf\")),\n",
        "       (0,float(\"inf\")),\n",
        "       (0,float(\"inf\")),\n",
        "       (0,float(\"inf\")),\n",
        "       (0,float(\"inf\")),\n",
        "       (0,float(\"inf\")),\n",
        "       (0,float(\"inf\"))]"
      ],
      "execution_count": 124,
      "outputs": []
    },
    {
      "cell_type": "code",
      "metadata": {
        "id": "IbmSi8dx1Fhf"
      },
      "source": [
        "opt = linprog(c=Minimize,\n",
        "              A_eq=Points, b_eq=Value, bounds=Limit,\n",
        "               method=\"revised simplex\")              #Function to solve the problems in simplex method.\n",
        "\n"
      ],
      "execution_count": 127,
      "outputs": []
    },
    {
      "cell_type": "code",
      "metadata": {
        "id": "MXV1UqNcCP9H",
        "outputId": "f718a1c7-3739-49ee-9cde-e0e621b8a169",
        "colab": {
          "base_uri": "https://localhost:8080/"
        }
      },
      "source": [
        "np.int_(opt.x)                              # Best Solution result in form of [X1,X2,X3,U1,E1,U2,E2,U3,E3], Since Goal Programming \n",
        "                                            ## provide the best solution for the goal listed rather than feasible sets."
      ],
      "execution_count": 130,
      "outputs": [
        {
          "output_type": "execute_result",
          "data": {
            "text/plain": [
              "array([    0,     0,   150,     0, 12499,     0,     0,    10,     0])"
            ]
          },
          "metadata": {},
          "execution_count": 130
        }
      ]
    },
    {
      "cell_type": "code",
      "metadata": {
        "id": "VmaT1M784bEl",
        "colab": {
          "base_uri": "https://localhost:8080/"
        },
        "outputId": "10eeaf26-e8bb-40df-b9b6-05f6fe57004b"
      },
      "source": [
        "round(opt.fun, ndigits=3)      # Solution for the minimize function."
      ],
      "execution_count": 129,
      "outputs": [
        {
          "output_type": "execute_result",
          "data": {
            "text/plain": [
              "13500.0"
            ]
          },
          "metadata": {},
          "execution_count": 129
        }
      ]
    },
    {
      "cell_type": "markdown",
      "metadata": {
        "id": "pz5xCYtbZCGZ"
      },
      "source": [
        "## Project Idea"
      ]
    },
    {
      "cell_type": "markdown",
      "metadata": {
        "id": "LrBCw5_-ZJFK"
      },
      "source": [
        ""
      ]
    },
    {
      "cell_type": "markdown",
      "metadata": {
        "id": "C8i0wsUKijeP"
      },
      "source": [
        "### Authors"
      ]
    },
    {
      "cell_type": "markdown",
      "metadata": {
        "id": "rajid0PdipzE"
      },
      "source": [
        "Principal authors of this chapter were: [N.C.Jacob](https://github.com/nurfnick), but you!\n",
        "\n",
        "Contributions were made by:[Arun Gyawali](https://github.com/arungyaw),[Khaji Butler](https://github.com/khajibutler),[Utshav Hamal](https://github.com/utsham)"
      ]
    },
    {
      "cell_type": "code",
      "metadata": {
        "id": "7gUn1NirlAep"
      },
      "source": [
        ""
      ],
      "execution_count": null,
      "outputs": []
    }
  ]
}