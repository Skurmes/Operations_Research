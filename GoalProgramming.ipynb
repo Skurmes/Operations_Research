{
  "nbformat": 4,
  "nbformat_minor": 0,
  "metadata": {
    "colab": {
      "name": "Untitled30.ipynb",
      "provenance": [],
      "include_colab_link": true
    },
    "kernelspec": {
      "name": "python3",
      "display_name": "Python 3"
    },
    "language_info": {
      "name": "python"
    }
  },
  "cells": [
    {
      "cell_type": "markdown",
      "metadata": {
        "id": "view-in-github",
        "colab_type": "text"
      },
      "source": [
        "<a href=\"https://colab.research.google.com/github/arungyaw/Operations_Research/blob/main/GoalProgramming.ipynb\" target=\"_parent\"><img src=\"https://colab.research.google.com/assets/colab-badge.svg\" alt=\"Open In Colab\"/></a>"
      ]
    },
    {
      "cell_type": "markdown",
      "metadata": {
        "id": "i_4QVqdV96a6"
      },
      "source": [
        "# Goal Programming"
      ]
    },
    {
      "cell_type": "markdown",
      "metadata": {
        "id": "n0AD_VXnYiKq"
      },
      "source": [
        "## What is Goal Programming?\n",
        "\n",
        "Goal Programming is a modification and extension of linear programming, Goal Programming extends the linear programming formulation to accommodate mathematical programming with multiple objectives\n",
        "It is a branch of multi-objective optimization and is based under multi-criteria decision-making analysis (MCDMA). This is an optimization programming to handle multiple,\n",
        "normally conflicting objective measures. Measures are given a goal or target value to be achieved.\n",
        "Unwanted deviations from this set of target values are then minimized in an achievement function.\n",
        "This can be a vector or a weighted sum dependent on the goal programming variant used.\n",
        "\n",
        "## Types of Goal Programming models.\n",
        "\n",
        "In Goal Programming there are two basic models: the preemptive (lexicographic) model and the non-preemptive (Archimedean) model.\n",
        "\n",
        "In the pre-emptive model, goals are ranked according to their priorities. The goals at a certain priority level are considered to be infinitely more important than the goals at the next level. In this model the problem is optimized one goal at a time so that the optimal value of the higher-ranking goal is not compromised by lower ranking goal.\n",
        "\n",
        "In the non-preemptive model, all the goals are of comparably equal importance, but in non-preemptive model the constraints have certain upper and lower limits and as long as the solution is within those limits it is considered optimal.\n",
        "\n",
        "\n",
        "\n",
        "## Steps of Goal Programming.\n",
        "\n",
        "Goal programming is used to perform three types of analysis:\n",
        "1. Determine the required resources to achieve a desired set of objectives.\n",
        "2. Determine the degree of attainment of the goals with the available resources.\n",
        "3. Providing the best satisfying solution under a varying number of resources and priorities of\n",
        "the goals."
      ]
    },
    {
      "cell_type": "markdown",
      "metadata": {
        "id": "DVKCnmI8UBTG"
      },
      "source": [
        "## History of Goal Programming.\n",
        "\n",
        "The history of Goal Programming goes back to the years after the end of the 2nd world war when the industrial world was facing depression, though it wasn’t officially called Goal Programming then, industrialists were trying out various models which was successfully solving their problems and they soon learnt that this mathematical technique could be easily applied to solve industrial problems. Goal Programming was used to minimize the cost of production, increase the productivity, and use the available resources carefully and for healthy industrial growth. After that various model of Goal Programming were developed to solve industrial problems, so we can say that industries played an important role in the development of Goal Programming. Goal Programming was first used by Charnes, Cooper and Ferguson in 1955, but officially the name Goal Programming was mentioned in 1961 in a text by Charnes and Cooper.\n",
        "\n",
        "The first engineering application of Goal Programming was used for design and placement of the antennas on the second stage of the Saturn V rocket in 1962, which was used to launch the Apollo space capsule that landed the first men on the moon.\n"
      ]
    },
    {
      "cell_type": "markdown",
      "metadata": {
        "id": "5GgWvxZMYjTU"
      },
      "source": [
        "##Difference between Goal Programming and Linear Programming\n",
        "Goal Programming is a problem related programming which focuses on multicriteria decision making which implies more than one objective. Somewhat, it has similarities to Linear Programming and can also be solved using Simplex method, Python or Lingo. The difference is that while the Linear Programming works on an objective function to be optimized, subjects to absolute constraints, the Goal Programming operates on more objective functions with priorities, whose goals can be reached to a greater or lesser extent. For this reason, the GP model is more flexible than LP one, aiming at a satisfactory solution rather than optimizing (Sikha, 2018).A goal programming (GP) model deals with goals simultaneously that are of concern to a decision maker. While a Linear Programming model consists of constraints and a single objective function to be maximized or minimized (Nesticò,2020).\n",
        "\n"
      ]
    },
    {
      "cell_type": "markdown",
      "metadata": {
        "id": "DGC5WaH4Y98C"
      },
      "source": [
        "## Problems"
      ]
    },
    {
      "cell_type": "code",
      "metadata": {
        "id": "mbMCC1ZMZAHk"
      },
      "source": [
        "\n",
        "import numpy as np\n",
        "\n",
        "from scipy.optimize import linprog\n",
        "\n"
      ],
      "execution_count": null,
      "outputs": []
    },
    {
      "cell_type": "code",
      "metadata": {
        "id": "2dFWHQGOrFoj"
      },
      "source": [
        "obj = [0,0,0,0,1,5,0,100,0]\n",
        "\n",
        "lhs_eq = [[3000,800,250,1,-1,0,0,0,0],\n",
        "          [1000,500,200,0,0,1,-1,0,0],\n",
        "          [1,0,0,0,0,0,0,1,-1]]\n",
        "rhs_eq =[25000,\n",
        "         30000,\n",
        "         10]         "
      ],
      "execution_count": null,
      "outputs": []
    },
    {
      "cell_type": "code",
      "metadata": {
        "id": "CqXBIBgY0jKe"
      },
      "source": [
        "bnd = [(0,float(\"inf\")),\n",
        "       (0,float(\"inf\")),\n",
        "       (0,float(\"inf\")),\n",
        "       (0,float(\"inf\")),\n",
        "       (0,float(\"inf\")),\n",
        "       (0,float(\"inf\")),\n",
        "       (0,float(\"inf\")),\n",
        "       (0,float(\"inf\")),\n",
        "       (0,float(\"inf\"))]"
      ],
      "execution_count": null,
      "outputs": []
    },
    {
      "cell_type": "code",
      "metadata": {
        "id": "IbmSi8dx1Fhf",
        "colab": {
          "base_uri": "https://localhost:8080/"
        },
        "outputId": "c755fa1d-092b-490c-d648-b80fdf3a4a69"
      },
      "source": [
        "opt = linprog(c=obj,\n",
        "              A_eq=lhs_eq, b_eq=rhs_eq, bounds=bnd,\n",
        "               method=\"revised simplex\")\n",
        "opt.x\n"
      ],
      "execution_count": null,
      "outputs": [
        {
          "output_type": "execute_result",
          "data": {
            "text/plain": [
              "array([0.00e+00, 0.00e+00, 1.50e+02, 0.00e+00, 1.25e+04, 0.00e+00,\n",
              "       0.00e+00, 1.00e+01, 0.00e+00])"
            ]
          },
          "metadata": {},
          "execution_count": 93
        }
      ]
    },
    {
      "cell_type": "code",
      "metadata": {
        "id": "VmaT1M784bEl",
        "colab": {
          "base_uri": "https://localhost:8080/"
        },
        "outputId": "24e33be1-05c9-4960-a818-103729bfa7bb"
      },
      "source": [
        "opt.fun"
      ],
      "execution_count": null,
      "outputs": [
        {
          "output_type": "execute_result",
          "data": {
            "text/plain": [
              "13499.999999999995"
            ]
          },
          "metadata": {},
          "execution_count": 92
        }
      ]
    },
    {
      "cell_type": "code",
      "metadata": {
        "id": "h2IjFzP2wLVA"
      },
      "source": [
        ""
      ],
      "execution_count": null,
      "outputs": []
    },
    {
      "cell_type": "code",
      "metadata": {
        "id": "IoC8R4p7sS6R"
      },
      "source": [
        ""
      ],
      "execution_count": null,
      "outputs": []
    },
    {
      "cell_type": "markdown",
      "metadata": {
        "id": "fb2uZl1q_LR_"
      },
      "source": [
        "## References\n",
        "\n",
        "*How to Solve It* **G. Polya** Second Edition Princeton University Press 1957\n",
        "\n",
        "*Thinking Mathematically* **J. Mason** Addison-Wesley Publishing Company 1985\n",
        "\n",
        "*Grit: The Power of Passion and Perseverance* **A. Duckworth** ‎ Scribner Book Company 2016\n",
        "\n"
      ]
    },
    {
      "cell_type": "markdown",
      "metadata": {
        "id": "C8i0wsUKijeP"
      },
      "source": [
        "### Authors"
      ]
    },
    {
      "cell_type": "markdown",
      "metadata": {
        "id": "rajid0PdipzE"
      },
      "source": [
        "Principal authors of this chapter were: [N.C.Jacob](https://github.com/nurfnick), but you!\n",
        "\n",
        "Contributions were made by:[Arun Gyawali](https://github.com/arungyaw),[Khaji Butler](https://github.com/khajibutler),[Utshav Hamal](https://github.com/utsham)"
      ]
    },
    {
      "cell_type": "code",
      "metadata": {
        "id": "7gUn1NirlAep"
      },
      "source": [
        ""
      ],
      "execution_count": null,
      "outputs": []
    }
  ]
}