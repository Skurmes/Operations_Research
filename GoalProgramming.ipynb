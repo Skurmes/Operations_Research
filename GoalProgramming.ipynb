{
  "nbformat": 4,
  "nbformat_minor": 0,
  "metadata": {
    "colab": {
      "name": "Untitled30.ipynb",
      "provenance": [],
      "include_colab_link": true
    },
    "kernelspec": {
      "name": "python3",
      "display_name": "Python 3"
    },
    "language_info": {
      "name": "python"
    }
  },
  "cells": [
    {
      "cell_type": "markdown",
      "metadata": {
        "id": "view-in-github",
        "colab_type": "text"
      },
      "source": [
        "<a href=\"https://colab.research.google.com/github/arungyaw/Operations_Research/blob/main/GoalProgramming.ipynb\" target=\"_parent\"><img src=\"https://colab.research.google.com/assets/colab-badge.svg\" alt=\"Open In Colab\"/></a>"
      ]
    },
    {
      "cell_type": "markdown",
      "metadata": {
        "id": "i_4QVqdV96a6"
      },
      "source": [
        "# Goal Programming"
      ]
    },
    {
      "cell_type": "markdown",
      "metadata": {
        "id": "n0AD_VXnYiKq"
      },
      "source": [
        "## What is Goal Programming?\n",
        "\n",
        "Goal Programming is a modification and extension of linear programming, Goal Programming extends the linear programming formulation to accommodate mathematical programming with multiple objectives\n",
        "It is a branch of multi-objective optimization and is based under multi-criteria decision-making analysis (MCDMA). This is an optimization programming to handle multiple,\n",
        "normally conflicting objective measures. Measures are given a goal or target value to be achieved.\n",
        "Unwanted deviations from this set of target values are then minimized in an achievement function.\n",
        "This can be a vector or a weighted sum dependent on the goal programming variant used.\n",
        "\n",
        "## Types of Goal Programming models.\n",
        "\n",
        "In Goal Programming there are two basic models: the preemptive (lexicographic) model and the non-preemptive (Archimedean) model.\n",
        "\n",
        "In the pre-emptive model, goals are ranked according to their priorities. The goals at a certain priority level are considered to be infinitely more important than the goals at the next level. In this model the problem is optimized one goal at a time so that the optimal value of the higher-ranking goal is not compromised by lower ranking goal.\n",
        "\n",
        "In the non-preemptive model, all the goals are of comparably equal importance, but in non-preemptive model the constraints have certain upper and lower limits and as long as the solution is within those limits it is considered optimal.\n",
        "\n",
        "\n",
        "\n",
        "## Steps of Goal Programming.\n",
        "\n",
        "Goal programming is used to perform three types of analysis:\n",
        "1. Determine the required resources to achieve a desired set of objectives.\n",
        "2. Determine the degree of attainment of the goals with the available resources.\n",
        "3. Providing the best satisfying solution under a varying number of resources and priorities of\n",
        "the goals."
      ]
    },
    {
      "cell_type": "markdown",
      "metadata": {
        "id": "DVKCnmI8UBTG"
      },
      "source": [
        "## History of Goal Programming.\n",
        "\n",
        "The history of Goal Programming goes back to the years after the end of the 2nd world war when the industrial world was facing depression, though it wasn’t officially called Goal Programming then, industrialists were trying out various models which was successfully solving their problems and they soon learnt that this mathematical technique could be easily applied to solve industrial problems. Goal Programming was used to minimize the cost of production, increase the productivity, and use the available resources carefully and for healthy industrial growth. After that various model of Goal Programming were developed to solve industrial problems, so we can say that industries played an important role in the development of Goal Programming. Goal Programming was first used by Charnes, Cooper and Ferguson in 1955, but officially the name Goal Programming was mentioned in 1961 in a text by Charnes and Cooper.\n",
        "\n",
        "The first engineering application of Goal Programming was used for design and placement of the antennas on the second stage of the Saturn V rocket in 1962, which was used to launch the Apollo space capsule that landed the first men on the moon.\n"
      ]
    },
    {
      "cell_type": "markdown",
      "metadata": {
        "id": "5GgWvxZMYjTU"
      },
      "source": [
        "##Difference between Goal Programming and Linear Programming\n",
        "Goal Programming is a problem related programming which focuses on multicriteria decision making which implies more than one objective. Somewhat, it has similarities to Linear Programming and can also be solved using Simplex method, Python or Lingo. The difference is that while the Linear Programming works on an objective function to be optimized, subjects to absolute constraints, the Goal Programming operates on more objective functions with priorities, whose goals can be reached to a greater or lesser extent. For this reason, the GP model is more flexible than LP one, aiming at a satisfactory solution rather than optimizing (Sikha, 2018).A goal programming (GP) model deals with goals simultaneously that are of concern to a decision maker. While a Linear Programming model consists of constraints and a single objective function to be maximized or minimized (Nesticò,2020).\n",
        "\n"
      ]
    },
    {
      "cell_type": "markdown",
      "metadata": {
        "id": "DGC5WaH4Y98C"
      },
      "source": [
        "## Problems"
      ]
    },
    {
      "cell_type": "markdown",
      "metadata": {
        "id": "KR_uQi3QERdc"
      },
      "source": [
        "Suppose a company is considering three forms of advertising: Television(X1), Radio(X2), and internet (X3). Each television spot costs 3000 to run and reaches 1000 new potential customers; each radio spot costs 800 dollars to run and reaches 500 new customers; and each internet ad costs 250 to run and reaches 200 new customers.\n",
        "Let’s say the company has three goals (not a single like LP)\n",
        "\n",
        "\n",
        "*   Goal 1: Spend no more than $25,000 on advertising.\n",
        "\n",
        "\n",
        "*   Goal 2: Reach at least 30,000 new potential customers.\n",
        "\n",
        "\n",
        "* Goal 3: Run at least 10 television spots\n",
        "\n",
        "##Solution:\n",
        "We can make constraints for the following conditions:\n",
        "\n",
        "\n",
        "\n",
        " \n",
        "*   **3000X1 + 800X2 + 250X3 <= 25000----(i)**\n",
        "*  **1000X1 + 500X2 + 200X3 >= 30000 ----(ii)**\n",
        "*   **X1 >= 10 ------(iii)**\n",
        " \n",
        " If we look at equation (iii), it contradicts with equation (i) and the problem will be unsolvable . So, the problem couldn't be solved through this approach. That's why we have to use Goal Programming for this problem. So, we will suppose new variables for further :\n",
        "\n",
        " **Ui = the amount by which L.H.S falls short of its R.H.S Value.**\n",
        " **Ei = the amount by which L.H.S exceeds its R.H.S value.**\n",
        "  \n",
        "  So, now we can write our equations as:\n",
        "\n",
        "*   **3000X1 + 800X2 + 250X3 + U1 - E1 = 25000----(i)**\n",
        "*   **1000X1 + 500X2 + 200X3 + U2 - E2 = 30000 ----(ii) **  \n",
        "*   **X1 + U3 - E3 = 10 ------(iii)**\n",
        "*  ** X1,X2,X3,U1,U2,U3,E1,E2,E3 >= 0 **\n",
        "\n",
        "Now we will arrange it in matrix form for our our python using simplex:\n",
        "\n",
        "[ 3000   800  250  1  -1  0  0  0  0 |       [25000\n",
        "\n",
        "   1000   500  200  0   0  1 -1  0 0  |      30000 \n",
        "\n",
        "   1       0    0    0   0   0   0  1 -1 |]   10 ]\n",
        " \n",
        " But this will not be enough , we will need a new objective so:\n",
        "\n",
        "Let’s suppose management determines that each extra dollar spent on advertising above 25,000 dollars costs the company 1 dollars and that the company suffers a loss of 5 dollars for each potential customers not reached below the goal of 30,000 and each television spot below 10 is worth 100 times each dollar over the budget. i.e\n",
        "\n",
        "\n",
        "*   Goal 4: **Minimize** **E1 + 5U2 + 100U3**\n",
        "\n",
        "Now, we got our variables and our goal, so we will use python to find out the best value for our problem:\n",
        "\n",
        "\n",
        "\n",
        "\n",
        "\n",
        "\n",
        "\n",
        "\n",
        "\n",
        "\n",
        "\n",
        "\n",
        "\n",
        "\n",
        "\n",
        "\n",
        "\n"
      ]
    },
    {
      "cell_type": "code",
      "metadata": {
        "id": "mbMCC1ZMZAHk"
      },
      "source": [
        "\n",
        "import numpy as np  #import numpy as np package for array\n",
        "\n",
        "from scipy.optimize import linprog  #import linprog from scipy.optimize for linear solving\n",
        "\n"
      ],
      "execution_count": 132,
      "outputs": []
    },
    {
      "cell_type": "code",
      "metadata": {
        "id": "2dFWHQGOrFoj"
      },
      "source": [
        "Minimize = [0,0,0,0,1,5,0,100,0]  ##Array listed as [X1,X2,X3,U1,E1,U2,E2,U3,E3]\n",
        "                             ## objective[Minimize=E1+5U2+100E3]\n",
        "\n",
        "Points = [[3000,800,250,1,-1,0,0,0,0], # Left hand values of matrix respectively represented in arrays.\n",
        "          [1000,500,200,0,0,1,-1,0,0],\n",
        "          [1,0,0,0,0,0,0,1,-1]]\n",
        "Value =[25000,                           #R.H.S values listed respectively in arrays.\n",
        "         30000,      \n",
        "         10]         "
      ],
      "execution_count": 131,
      "outputs": []
    },
    {
      "cell_type": "code",
      "metadata": {
        "id": "CqXBIBgY0jKe"
      },
      "source": [
        "Limit = [(0,float(\"inf\")),    # Bound the variables X1, X2, X3, U1 , E1, U2, E2, U3, E3 >= 0\n",
        "       (0,float(\"inf\")),\n",
        "       (0,float(\"inf\")),\n",
        "       (0,float(\"inf\")),\n",
        "       (0,float(\"inf\")),\n",
        "       (0,float(\"inf\")),\n",
        "       (0,float(\"inf\")),\n",
        "       (0,float(\"inf\")),\n",
        "       (0,float(\"inf\"))]"
      ],
      "execution_count": 133,
      "outputs": []
    },
    {
      "cell_type": "code",
      "metadata": {
        "id": "IbmSi8dx1Fhf"
      },
      "source": [
        "opt = linprog(c=obj,\n",
        "              A_eq=Points, b_eq=Value, bounds=Limit,\n",
        "               method=\"revised simplex\")     #Function to solve the problems using simplex method.\n"
      ],
      "execution_count": 137,
      "outputs": []
    },
    {
      "cell_type": "code",
      "metadata": {
        "colab": {
          "base_uri": "https://localhost:8080/"
        },
        "id": "bOFdB5b5QI6v",
        "outputId": "7cc07828-7b45-45ae-80d7-4849d68931cc"
      },
      "source": [
        "np.int_(opt.x)  # Best solution for variables."
      ],
      "execution_count": 138,
      "outputs": [
        {
          "output_type": "execute_result",
          "data": {
            "text/plain": [
              "array([    0,     0,   150,     0, 12499,     0,     0,    10,     0])"
            ]
          },
          "metadata": {},
          "execution_count": 138
        }
      ]
    },
    {
      "cell_type": "code",
      "metadata": {
        "id": "VmaT1M784bEl",
        "colab": {
          "base_uri": "https://localhost:8080/"
        },
        "outputId": "bb2f65b1-9aaf-4f32-8c0f-7138e91f1076"
      },
      "source": [
        "round(opt.fun, ndigits=3)  # Best Solution for minimize function"
      ],
      "execution_count": 139,
      "outputs": [
        {
          "output_type": "execute_result",
          "data": {
            "text/plain": [
              "13500.0"
            ]
          },
          "metadata": {},
          "execution_count": 139
        }
      ]
    },
    {
      "cell_type": "code",
      "metadata": {
        "id": "h2IjFzP2wLVA"
      },
      "source": [
        ""
      ],
      "execution_count": null,
      "outputs": []
    },
    {
      "cell_type": "code",
      "metadata": {
        "id": "IoC8R4p7sS6R"
      },
      "source": [
        ""
      ],
      "execution_count": null,
      "outputs": []
    },
    {
      "cell_type": "markdown",
      "metadata": {
        "id": "fb2uZl1q_LR_"
      },
      "source": [
        "## References\n",
        "\n",
        "*How to Solve It* **G. Polya** Second Edition Princeton University Press 1957\n",
        "\n",
        "*Thinking Mathematically* **J. Mason** Addison-Wesley Publishing Company 1985\n",
        "\n",
        "*Grit: The Power of Passion and Perseverance* **A. Duckworth** ‎ Scribner Book Company 2016\n",
        "\n"
      ]
    },
    {
      "cell_type": "markdown",
      "metadata": {
        "id": "C8i0wsUKijeP"
      },
      "source": [
        "### Authors"
      ]
    },
    {
      "cell_type": "markdown",
      "metadata": {
        "id": "rajid0PdipzE"
      },
      "source": [
        "Principal authors of this chapter were: [N.C.Jacob](https://github.com/nurfnick), but you!\n",
        "\n",
        "Contributions were made by:[Arun Gyawali](https://github.com/arungyaw),[Khaji Butler](https://github.com/khajibutler),[Utshav Hamal](https://github.com/utsham)"
      ]
    },
    {
      "cell_type": "code",
      "metadata": {
        "id": "7gUn1NirlAep"
      },
      "source": [
        ""
      ],
      "execution_count": null,
      "outputs": []
    }
  ]
}